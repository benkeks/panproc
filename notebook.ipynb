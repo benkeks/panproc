{
 "cells": [
  {
   "cell_type": "code",
   "execution_count": 1,
   "metadata": {},
   "outputs": [
    {
     "name": "stdout",
     "output_type": "stream",
     "text": [
      "hello\n"
     ]
    }
   ],
   "source": [
    "println(\"hello\")"
   ]
  },
  {
   "cell_type": "code",
   "execution_count": 5,
   "metadata": {},
   "outputs": [
    {
     "name": "stdout",
     "output_type": "stream",
     "text": [
      "letrec a = (λx. b x); b = (λx. x) in a a\n"
     ]
    },
    {
     "data": {
      "text/plain": [
       "\u001b[32mimport \u001b[39m\u001b[36m$cp.$                      \n",
       "\u001b[39m\n",
       "\u001b[32mimport \u001b[39m\u001b[36mio.equiv.panproc.lambda\n",
       "\u001b[39m\n",
       "\u001b[32mimport \u001b[39m\u001b[36mio.equiv.panproc.lambda.Syntax.Notation._\n",
       "\n",
       "\u001b[39m"
      ]
     },
     "execution_count": 5,
     "metadata": {},
     "output_type": "execute_result"
    }
   ],
   "source": [
    "import $cp.out.main.`jar.dest`.out\n",
    "import io.equiv.panproc.lambda\n",
    "import io.equiv.panproc.lambda.Syntax.Notation._\n",
    "\n",
    "private val lambdaProg = let.rec(\n",
    "  a = λ(\"x\")(atom(\"b\")(atom(\"x\"))),\n",
    "  b = λ(\"x\")(atom(\"x\")),\n",
    "  atom(\"a\")(atom(\"a\"))\n",
    ")\n",
    "\n",
    "println(lambdaProg.pretty)"
   ]
  }
 ],
 "metadata": {
  "kernelspec": {
   "display_name": "Scala 3.1.3",
   "language": "scala",
   "name": "scala_3_1_3"
  },
  "language_info": {
   "codemirror_mode": "text/x-scala",
   "file_extension": ".sc",
   "mimetype": "text/x-scala",
   "name": "scala",
   "nbconvert_exporter": "script",
   "version": "2.13.8"
  },
  "orig_nbformat": 4
 },
 "nbformat": 4,
 "nbformat_minor": 2
}
