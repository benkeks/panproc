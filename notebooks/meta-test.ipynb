{
 "cells": [
  {
   "cell_type": "code",
   "execution_count": 1,
   "metadata": {},
   "outputs": [
    {
     "data": {
      "text/plain": [
       "\u001b[32mimport \u001b[39m\u001b[36m$cp.$          \n",
       "\u001b[39m\n",
       "\u001b[32mimport \u001b[39m\u001b[36mscala.language.implicitConversions\n",
       "\u001b[39m"
      ]
     },
     "execution_count": 1,
     "metadata": {},
     "output_type": "execute_result"
    }
   ],
   "source": [
    "import $cp.lib.panproc\n",
    "import scala.language.implicitConversions"
   ]
  },
  {
   "cell_type": "code",
   "execution_count": 3,
   "metadata": {},
   "outputs": [
    {
     "data": {
      "text/plain": [
       "\u001b[32mimport \u001b[39m\u001b[36mio.equiv.panproc.hml.HMLRules\n",
       "\n",
       "\u001b[39m\n",
       "\u001b[36mres3_1\u001b[39m: \u001b[32mString\u001b[39m = \u001b[32m\"MetaRule(obsI,List(MetaJudgment(lts_step,List(MetaVariable(p), MetaVariable(a), MetaVariable(p'))), MetaJudgment(hml_satisfies,List(MetaVariable(p'), MetaVariable(𝜑)))),MetaJudgment(hml_satisfies,List(MetaVariable(p), MetaFactory2(MetaVariable(a),MetaVariable(a),MetaVariable(𝜑),Placeholder(𝜑),io.equiv.panproc.hml.HMLRules$$Lambda$2660/0x0000000840c87840@b5e786))))\"\u001b[39m"
      ]
     },
     "execution_count": 3,
     "metadata": {},
     "output_type": "execute_result"
    }
   ],
   "source": [
    "import io.equiv.panproc.hml.HMLRules\n",
    "\n",
    "new HMLRules[String, String].obsI.toString"
   ]
  }
 ],
 "metadata": {
  "kernelspec": {
   "display_name": "Scala",
   "language": "scala",
   "name": "scala"
  },
  "language_info": {
   "codemirror_mode": "text/x-scala",
   "file_extension": ".sc",
   "mimetype": "text/x-scala",
   "name": "scala",
   "nbconvert_exporter": "script",
   "version": "2.13.12"
  },
  "orig_nbformat": 4
 },
 "nbformat": 4,
 "nbformat_minor": 2
}
