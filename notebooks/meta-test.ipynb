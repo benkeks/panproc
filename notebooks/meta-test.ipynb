{
 "cells": [
  {
   "cell_type": "code",
   "execution_count": 4,
   "metadata": {},
   "outputs": [
    {
     "data": {
      "text/plain": [
       "\u001b[32mimport \u001b[39m\u001b[36m$cp.$          \n",
       "\u001b[39m\n",
       "\u001b[32mimport \u001b[39m\u001b[36mscala.language.implicitConversions\n",
       "\u001b[39m"
      ]
     },
     "execution_count": 4,
     "metadata": {},
     "output_type": "execute_result"
    }
   ],
   "source": [
    "import $cp.lib.panproc\n",
    "import scala.language.implicitConversions"
   ]
  },
  {
   "cell_type": "code",
   "execution_count": 5,
   "metadata": {},
   "outputs": [
    {
     "data": {
      "text/latex": [
       "$\\begin{array}{l}\\mathsf{let rec}\\\\\\quad \\mathit{P1} := (\\lambda \\mathit{x} \\ldotp  \\mathit{world}\\ldotp(\\mathit{P1} \\left( () \\right))) \\\\ \\mathsf{in}\\; \\mathit{P1} \\left( () \\right)\\end{array}$"
      ],
      "text/plain": [
       "letrec P1 = (λx. world.(P1 ())) in P1 ()"
      ]
     },
     "metadata": {},
     "output_type": "display_data"
    },
    {
     "data": {
      "text/plain": [
       "\u001b[32mimport \u001b[39m\u001b[36mio.equiv.panproc.lambda.Syntax.Notation.{*, given}\n",
       "\u001b[39m\n",
       "\u001b[32mimport \u001b[39m\u001b[36mio.equiv.panproc.ccs.Syntax.Notation.*\n",
       "\u001b[39m\n",
       "\u001b[32mimport \u001b[39m\u001b[36mio.equiv.panproc.ccs.Semantics\n",
       "\n",
       "\u001b[39m\n",
       "\u001b[36mccsLTS\u001b[39m: \u001b[32mTransitionSystem\u001b[39m[\u001b[32mExpression\u001b[39m, \u001b[32mEdgeLabel\u001b[39m, \u001b[32mNodeLabel\u001b[39m] = \u001b[33mTransitionSystem\u001b[39m(\n",
       "  step = {(Bind(1: P1,Application(Lambda(world,Choice(List(Application(P1,Unit())))),Hole())),world,Bind(1: world,P1,Application(Lambda(world,Choice(List(Application(P1,Unit())))),Hole()))),(LetRec(List(Definition(P1,Lambda(x,Receive(Lambda(world,Choice(List(Application(P1,Unit())))))))),Choice(List(Application(P1,Unit())))),world,Bind(1: P1,Application(Lambda(world,Choice(List(Application(P1,Unit())))),Hole()))),(Bind(1: world,P1,Application(Lambda(world,Choice(List(Application(P1,Unit())))),Hole())),world,Bind(1: world,P1,Application(Lambda(world,Choice(List(Application(P1,Unit())))),Hole())))},\n",
       "  nodeLabeling = \u001b[33mMap\u001b[39m(\n",
       "    \u001b[33mBind\u001b[39m(\n",
       "      env = 1: P1,\n",
       "      term = \u001b[33mApplication\u001b[39m(\n",
       "        function = \u001b[33mLambda\u001b[39m(\n",
       "          variable = \u001b[33mVariable\u001b[39m(name = \u001b[32m\"world\"\u001b[39m),\n",
       "          term = \u001b[33mChoice\u001b[39m(\n",
       "            procs = \u001b[33mList\u001b[39m(\n",
       "              \u001b[33mApplication\u001b[39m(function = \u001b[33mVariable\u001b[39m(name = \u001b[32m\"P1\"\u001b[39m), argument = Unit())\n",
       "            )\n",
       "          )\n",
       "        ),\n",
       "        argument = Hole()\n",
       "      )\n",
       "    ) -> \u001b[32m\"{(λworld. P1 ()) ⋅}\"\u001b[39m,\n",
       "    \u001b[33mLetRec\u001b[39m(\n",
       "      definitions = \u001b[33mList\u001b[39m(\n",
       "        \u001b[33mDefinition\u001b[39m(\n",
       "          pattern = \u001b[33mVariable\u001b[39m(name = \u001b[32m\"P1\"\u001b[39m),\n",
       "          value = \u001b[33mLambda\u001b[39m(\n",
       "            variable = \u001b[33mVariable\u001b[39m(name = \u001b[32m\"x\"\u001b[39m),\n",
       "            term = \u001b[33mReceive\u001b[39m(\n",
       "              receiver = \u001b[33mLambda\u001b[39m(\n",
       "                variable = \u001b[33mVariable\u001b[39m(name = \u001b[32m\"world\"\u001b[39m),\n",
       "                term = \u001b[33mChoice\u001b[39m(\n",
       "                  procs = \u001b[33mList\u001b[39m(\n",
       "                    \u001b[33mApplication\u001b[39m(\n",
       "                      function = \u001b[33mVariable\u001b[39m(name = \u001b[32m\"P1\"\u001b[39m),\n",
       "                      argument = Unit()\n",
       "                    )\n",
       "..."
      ]
     },
     "execution_count": 5,
     "metadata": {},
     "output_type": "execute_result"
    }
   ],
   "source": [
    "import io.equiv.panproc.lambda.Syntax.Notation.{*, given}\n",
    "import io.equiv.panproc.ccs.Syntax.Notation.*\n",
    "import io.equiv.panproc.ccs.Semantics\n",
    "\n",
    "io.equiv.panproc.lambda.LatexPrint.setup()\n",
    "\n",
    "val ccsIterProg = let.rec(\n",
    "  P1 = λ(\"x\")(receive(\"world\") * subProcess(\"P1\")),\n",
    "  subProcess(\"P1\")\n",
    ")\n",
    "\n",
    "val ccsLTS = Semantics(ccsIterProg).asTransitionSystem()"
   ]
  },
  {
   "cell_type": "code",
   "execution_count": 6,
   "metadata": {},
   "outputs": [
    {
     "name": "stdout",
     "output_type": "stream",
     "text": [
      "digraph rel{-302422489 [shape=circle, width=2, fixedsize=true, color=red, style=bold, label=\"List()\"];-688333126 [shape=square, color=red, style=bold, label=\"MetaJudgment(hml_satisfies,List(p', ConjunctionOperator()))\"];-815982779 [shape=square, color=blue, style=bold, label=\"MetaJudgment(lts_step,List(StateLiteral(LetRec(List(Definition(P1,Lambda(x,Receive(Lambda(world,Choice(List(Application(P1,Unit())))))))),Choice(List(Application(P1,Unit()))))), ActionLiteral(hello), p'))\"];302335825 [shape=square, color=blue, style=bold, label=\"MetaJudgment(hml_satisfies,List(StateLiteral(LetRec(List(Definition(P1,Lambda(x,Receive(Lambda(world,Choice(List(Application(P1,Unit())))))))),Choice(List(Application(P1,Unit()))))), Application(Application(ObservationOperator(),ActionLiteral(hello)),ConjunctionOperator())))\"];-1912768686 [shape=circle, width=2, fixedsize=true, color=blue, style=bold, label=\"List(MetaJudgment(lts_step,List(StateLiteral(LetRec(List(Definition(P1,Lambda(x,Receive(Lambda(world,Choice(List(Application(P1,Unit())))))))),Choice(List(Application(P1,Unit()))))), ActionLiteral(hello), p')), MetaJudgment(hml_satisfies,List(p', ConjunctionOperator())))\"];302335825->-1912768686[color=black, label=\"\"];-1912768686->-815982779[color=black, label=\"\"];-1912768686->-688333126[color=black, label=\"\"];-688333126->-302422489[color=black, label=\"\"]}\n"
     ]
    },
    {
     "data": {
      "text/latex": [
       "$\\begin{array}{l}<> \\left( world \\right) \\left( /\\ \\right)\\end{array}$"
      ],
      "text/plain": [
       "<> world /\\"
      ]
     },
     "metadata": {},
     "output_type": "display_data"
    },
    {
     "data": {
      "text/latex": [
       "$\\begin{array}{l}<> \\left( hello \\right) \\left( /\\ \\right)\\end{array}$"
      ],
      "text/plain": [
       "<> hello /\\"
      ]
     },
     "metadata": {},
     "output_type": "display_data"
    },
    {
     "data": {
      "text/plain": [
       "\u001b[32mimport \u001b[39m\u001b[36mio.equiv.panproc.hml.HMLRules\n",
       "\u001b[39m\n",
       "\u001b[32mimport \u001b[39m\u001b[36mio.equiv.panproc.lambda.Syntax.*\n",
       "\u001b[39m\n",
       "\u001b[32mimport \u001b[39m\u001b[36mio.equiv.panproc.meta.MetaSyntax.*\n",
       "\n",
       "\u001b[39m\n",
       "\u001b[36mhmlRules\u001b[39m: \u001b[32mHMLRules\u001b[39m[\u001b[32mExpression\u001b[39m, \u001b[32mEdgeLabel\u001b[39m, \u001b[32mString\u001b[39m] = io.equiv.panproc.hml.HMLRules@1283ea7f\n",
       "\u001b[36mgoal\u001b[39m: \u001b[32mMetaJudgment\u001b[39m = \u001b[33mMetaJudgment\u001b[39m(\n",
       "  name = \u001b[32m\"hml_satisfies\"\u001b[39m,\n",
       "  parameters = \u001b[33mList\u001b[39m(\n",
       "    \u001b[33mStateLiteral\u001b[39m(\n",
       "      s = \u001b[33mLetRec\u001b[39m(\n",
       "        definitions = \u001b[33mList\u001b[39m(\n",
       "          \u001b[33mDefinition\u001b[39m(\n",
       "            pattern = \u001b[33mVariable\u001b[39m(name = \u001b[32m\"P1\"\u001b[39m),\n",
       "            value = \u001b[33mLambda\u001b[39m(\n",
       "              variable = \u001b[33mVariable\u001b[39m(name = \u001b[32m\"x\"\u001b[39m),\n",
       "              term = \u001b[33mReceive\u001b[39m(\n",
       "                receiver = \u001b[33mLambda\u001b[39m(\n",
       "                  variable = \u001b[33mVariable\u001b[39m(name = \u001b[32m\"world\"\u001b[39m),\n",
       "                  term = \u001b[33mChoice\u001b[39m(\n",
       "                    procs = \u001b[33mList\u001b[39m(\n",
       "                      \u001b[33mApplication\u001b[39m(\n",
       "                        function = \u001b[33mVariable\u001b[39m(name = \u001b[32m\"P1\"\u001b[39m),\n",
       "                        argument = Unit()\n",
       "                      )\n",
       "                    )\n",
       "                  )\n",
       "                )\n",
       "              )\n",
       "            )\n",
       "          )\n",
       "        ),\n",
       "        in = \u001b[33mChoice\u001b[39m(\n",
       "          procs = \u001b[33mList\u001b[39m(\n",
       "            \u001b[33mApplication\u001b[39m(function = \u001b[33mVariable\u001b[39m(name = \u001b[32m\"P1\"\u001b[39m), argument = Unit())\n",
       "          )\n",
       "        )\n",
       "      )\n",
       "    ),\n",
       "    \u001b[33mApplication\u001b[39m(\n",
       "      function = \u001b[33mApplication\u001b[39m(\n",
       "        function = ObservationOperator(),\n",
       "        argument = \u001b[33mActionLiteral\u001b[39m(\n",
       "          a = \u001b[33mReceiveStep\u001b[39m(pattern = \u001b[33mVariable\u001b[39m(name = \u001b[32m\"world\"\u001b[39m))\n",
       "        )\n",
       "...\n",
       "\u001b[36mgoal2\u001b[39m: \u001b[32mMetaJudgment\u001b[39m = \u001b[33mMetaJudgment\u001b[39m(\n",
       "  name = \u001b[32m\"hml_satisfies\"\u001b[39m,\n",
       "  parameters = \u001b[33mList\u001b[39m(\n",
       "    \u001b[33mStateLiteral\u001b[39m(\n",
       "      s = \u001b[33mLetRec\u001b[39m(\n",
       "        definitions = \u001b[33mList\u001b[39m(\n",
       "          \u001b[33mDefinition\u001b[39m(\n",
       "            pattern = \u001b[33mVariable\u001b[39m(name = \u001b[32m\"P1\"\u001b[39m),\n",
       "            value = \u001b[33mLambda\u001b[39m(\n",
       "              variable = \u001b[33mVariable\u001b[39m(name = \u001b[32m\"x\"\u001b[39m),\n",
       "              term = \u001b[33mReceive\u001b[39m(\n",
       "                receiver = \u001b[33mLambda\u001b[39m(\n",
       "                  variable = \u001b[33mVariable\u001b[39m(name = \u001b[32m\"world\"\u001b[39m),\n",
       "                  term = \u001b[33mChoice\u001b[39m(\n",
       "                    procs = \u001b[33mList\u001b[39m(\n",
       "                      \u001b[33mApplication\u001b[39m(\n",
       "                        function = \u001b[33mVariable\u001b[39m(name = \u001b[32m\"P1\"\u001b[39m),\n",
       "                        argument = Unit()\n",
       "                      )\n",
       "                    )\n",
       "                  )\n",
       "                )\n",
       "              )\n",
       "            )\n",
       "          )\n",
       "        ),\n",
       "        in = \u001b[33mChoice\u001b[39m(\n",
       "          procs = \u001b[33mList\u001b[39m(\n",
       "            \u001b[33mApplication\u001b[39m(function = \u001b[33mVariable\u001b[39m(name = \u001b[32m\"P1\"\u001b[39m), argument = Unit())\n",
       "          )\n",
       "        )\n",
       "      )\n",
       "    ),\n",
       "    \u001b[33mApplication\u001b[39m(\n",
       "      function = \u001b[33mApplication\u001b[39m(\n",
       "        function = ObservationOperator(),\n",
       "        argument = \u001b[33mActionLiteral\u001b[39m(\n",
       "          a = \u001b[33mReceiveStep\u001b[39m(pattern = \u001b[33mVariable\u001b[39m(name = \u001b[32m\"hello\"\u001b[39m))\n",
       "        )\n",
       "..."
      ]
     },
     "execution_count": 6,
     "metadata": {},
     "output_type": "execute_result"
    }
   ],
   "source": [
    "import io.equiv.panproc.hml.HMLRules\n",
    "import io.equiv.panproc.lambda.Syntax.*\n",
    "import io.equiv.panproc.meta.MetaSyntax.*\n",
    "\n",
    "val hmlRules = new HMLRules(ccsLTS)\n",
    "\n",
    "val term = Application(Application(hmlRules.ObservationOperator(), hmlRules.ActionLiteral(Semantics.ReceiveStep(Variable(\"world\")))), hmlRules.ConjunctionOperator())\n",
    "val goal = MetaJudgment(\"hml_satisfies\", List(hmlRules.StateLiteral(ccsIterProg), term))\n",
    "\n",
    "val term2 = Application(Application(hmlRules.ObservationOperator(), hmlRules.ActionLiteral(Semantics.ReceiveStep(Variable(\"hello\")))), hmlRules.ConjunctionOperator())\n",
    "val goal2 = MetaJudgment(\"hml_satisfies\", List(hmlRules.StateLiteral(ccsIterProg), term2))\n",
    "\n",
    "// val pattern = MetaJudgment(\"lts_step\", List(hmlRules.StateLiteral(ccsIterProg), hmlRules.ActionLiteral(Semantics.ReceiveStep(Variable(\"world\"))), Variable(\"p'\")))\n",
    "\n",
    "// for r <- hmlRules.ltsStepJudgments do\n",
    "//   println(pattern)\n",
    "//   println(r)\n",
    "//   println(pattern.matchJudgment(r))\n",
    "\n",
    "//hmlRules.checkJudgment(goal)\n",
    "println(hmlRules.checkJudgment(goal))"
   ]
  }
 ],
 "metadata": {
  "kernelspec": {
   "display_name": "Scala",
   "language": "scala",
   "name": "scala"
  },
  "language_info": {
   "codemirror_mode": "text/x-scala",
   "file_extension": ".sc",
   "mimetype": "text/x-scala",
   "name": "scala",
   "nbconvert_exporter": "script",
   "version": "2.13.12"
  },
  "orig_nbformat": 4
 },
 "nbformat": 4,
 "nbformat_minor": 2
}
