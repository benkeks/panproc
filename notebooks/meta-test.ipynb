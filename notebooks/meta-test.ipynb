{
 "cells": [
  {
   "cell_type": "code",
   "execution_count": 1,
   "metadata": {},
   "outputs": [
    {
     "data": {
      "text/plain": [
       "\u001b[32mimport \u001b[39m\u001b[36m$cp.$          \n",
       "\u001b[39m\n",
       "\u001b[32mimport \u001b[39m\u001b[36mscala.language.implicitConversions\n",
       "\u001b[39m"
      ]
     },
     "execution_count": 1,
     "metadata": {},
     "output_type": "execute_result"
    }
   ],
   "source": [
    "import $cp.lib.panproc\n",
    "import scala.language.implicitConversions"
   ]
  },
  {
   "cell_type": "code",
   "execution_count": 3,
   "metadata": {},
   "outputs": [
    {
     "data": {
      "text/plain": [
       "\u001b[32mimport \u001b[39m\u001b[36mio.equiv.panproc.hml.HMLRules\n",
       "\u001b[39m\n",
       "\u001b[32mimport \u001b[39m\u001b[36mio.equiv.panproc.lambda.Syntax.*\n",
       "\u001b[39m\n",
       "\u001b[32mimport \u001b[39m\u001b[36mio.equiv.panproc.meta.MetaSyntax.*\n",
       "\n",
       "\u001b[39m\n",
       "\u001b[36mhmlRules\u001b[39m: \u001b[32mHMLRules\u001b[39m[\u001b[32mString\u001b[39m, \u001b[32mString\u001b[39m] = io.equiv.panproc.hml.HMLRules@177a4478\n",
       "\u001b[36mterm\u001b[39m: \u001b[32mApplication\u001b[39m = \u001b[33mApplication\u001b[39m(\n",
       "  function = \u001b[33mApplication\u001b[39m(\n",
       "    function = ObservationOperator(),\n",
       "    argument = \u001b[33mActionLiteral\u001b[39m(a = \u001b[32m\"a\"\u001b[39m)\n",
       "  ),\n",
       "  argument = ConjunctionOperator()\n",
       ")\n",
       "\u001b[36mgoal\u001b[39m: \u001b[32mMetaJudgment\u001b[39m = \u001b[33mMetaJudgment\u001b[39m(\n",
       "  name = \u001b[32m\"hml_satisfies\"\u001b[39m,\n",
       "  parameters = \u001b[33mList\u001b[39m(\n",
       "    \u001b[33mStateLiteral\u001b[39m(s = \u001b[32m\"s\"\u001b[39m),\n",
       "    \u001b[33mApplication\u001b[39m(\n",
       "      function = \u001b[33mApplication\u001b[39m(\n",
       "        function = ObservationOperator(),\n",
       "        argument = \u001b[33mActionLiteral\u001b[39m(a = \u001b[32m\"a\"\u001b[39m)\n",
       "      ),\n",
       "      argument = ConjunctionOperator()\n",
       "    )\n",
       "  )\n",
       ")\n",
       "\u001b[36mres3_6\u001b[39m: \u001b[32mOption\u001b[39m[\u001b[32mMap\u001b[39m[\u001b[32mString\u001b[39m, \u001b[32mExpression\u001b[39m]] = \u001b[33mSome\u001b[39m(\n",
       "  value = \u001b[33mMap\u001b[39m(\n",
       "    \u001b[32m\"p\"\u001b[39m -> \u001b[33mStateLiteral\u001b[39m(s = \u001b[32m\"s\"\u001b[39m),\n",
       "    \u001b[32m\"a\"\u001b[39m -> \u001b[33mActionLiteral\u001b[39m(a = \u001b[32m\"a\"\u001b[39m),\n",
       "    \u001b[32m\"𝜑\"\u001b[39m -> ConjunctionOperator()\n",
       "  )\n",
       ")"
      ]
     },
     "execution_count": 3,
     "metadata": {},
     "output_type": "execute_result"
    }
   ],
   "source": [
    "import io.equiv.panproc.hml.HMLRules\n",
    "import io.equiv.panproc.lambda.Syntax.*\n",
    "import io.equiv.panproc.meta.MetaSyntax.*\n",
    "\n",
    "val hmlRules = new HMLRules[String, String]\n",
    "\n",
    "val term = Application(Application(hmlRules.ObservationOperator(), hmlRules.ActionLiteral(\"a\")), hmlRules.ConjunctionOperator())\n",
    "\n",
    "val goal = MetaJudgment(\"hml_satisfies\", List(hmlRules.StateLiteral(\"s\"), term))\n",
    "\n",
    "hmlRules.obsI.backwardsStep(goal)\n",
    "\n",
    "//new HMLRules[String, String].obsI.matchBackwards()"
   ]
  }
 ],
 "metadata": {
  "kernelspec": {
   "display_name": "Scala",
   "language": "scala",
   "name": "scala"
  },
  "language_info": {
   "codemirror_mode": "text/x-scala",
   "file_extension": ".sc",
   "mimetype": "text/x-scala",
   "name": "scala",
   "nbconvert_exporter": "script",
   "version": "2.13.12"
  },
  "orig_nbformat": 4
 },
 "nbformat": 4,
 "nbformat_minor": 2
}
