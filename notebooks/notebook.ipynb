{
 "cells": [
  {
   "cell_type": "code",
   "execution_count": null,
   "metadata": {},
   "outputs": [],
   "source": [
    "import $cp.lib.panproc"
   ]
  },
  {
   "cell_type": "code",
   "execution_count": 3,
   "metadata": {},
   "outputs": [
    {
     "data": {
      "text/plain": [
       "letrec a = (λx. b x); b = (λx. x) in a a"
      ]
     },
     "metadata": {},
     "output_type": "display_data"
    },
    {
     "data": {
      "text/plain": [
       "\u001b[32mimport \u001b[39m\u001b[36m$cp.$          \n",
       "\u001b[39m\n",
       "\u001b[32mimport \u001b[39m\u001b[36mio.equiv.panproc.lambda.Syntax.Notation._\n",
       "\n",
       "\u001b[39m"
      ]
     },
     "execution_count": 3,
     "metadata": {},
     "output_type": "execute_result"
    }
   ],
   "source": [
    "import io.equiv.panproc.lambda.Syntax.Notation._\n",
    "\n",
    "io.equiv.panproc.lambda.LatexPrint.setup()\n",
    "\n",
    "val lambdaProg = let.rec(\n",
    "  a = λ(\"x\")(atom(\"b\")(atom(\"x\"))),\n",
    "  b = λ(\"x\")(atom(\"x\")),\n",
    "  atom(\"a\")(atom(\"a\"))\n",
    ")"
   ]
  },
  {
   "cell_type": "code",
   "execution_count": 4,
   "metadata": {},
   "outputs": [
    {
     "data": {
      "text/html": [
       "<div id=\"cy\" style=\"width: 100%; height: 300px;\"></div>\n",
       "\n",
       "<script type=\"module\">\n",
       "import cytoscape from \"../node_modules/cytoscape/dist/cytoscape.esm.min.js\";\n",
       "\n",
       "var cy = cytoscape({\n",
       "  container: document.getElementById('cy'),\n",
       "\n",
       "  layout: {\n",
       "    name: 'cose',\n",
       "    padding: 10\n",
       "  },\n",
       "\n",
       "  style: cytoscape.stylesheet()\n",
       "    .selector('node')\n",
       "      .style({\n",
       "        'content': 'data(name)',\n",
       "        'text-valign': 'center'\n",
       "      })\n",
       "    .selector(':selected')\n",
       "      .style({\n",
       "        'border-width': 3,\n",
       "        'border-color': '#333'\n",
       "      })\n",
       "    .selector('edge')\n",
       "      .style({\n",
       "        'opacity': 0.666,\n",
       "        'curve-style': 'bezier',\n",
       "        'target-arrow-shape': 'triangle',\n",
       "        'label': 'data(label)'\n",
       "      }),\n",
       "\n",
       "  elements: {\n",
       "    nodes: [{ data: { id: 'LetRec(List(Definition(a,Lambda(x,Application(Variable(b),Variable(x)))), Definition(b,Lambda(x,Variable(x)))),Application(Bind(e,Lambda(x,Application(Variable(b),Variable(x)))),Variable(a)))', name: 'letrec a = (λx. b x); b = (λx. x) in {(λx. b x)} a'} },{ data: { id: 'LetRec(List(Definition(a,Lambda(x,Application(Variable(b),Variable(x)))), Definition(b,Lambda(x,Variable(x)))),Bind(e,Lambda(x,Application(Variable(b),Variable(x)))))', name: 'letrec a = (λx. b x); b = (λx. x) in {(λx. b x)}'} },{ data: { id: 'LetRec(List(Definition(a,Lambda(x,Application(Variable(b),Variable(x)))), Definition(b,Lambda(x,Variable(x)))),Bind(e,Application(Bind(e,Lambda(x,Variable(x))),Variable(x))))', name: 'letrec a = (λx. b x); b = (λx. x) in {{(λx. x)} x}'} },{ data: { id: 'LetRec(List(Definition(a,Lambda(x,Application(Variable(b),Variable(x)))), Definition(b,Lambda(x,Variable(x)))),Bind(e,Bind(e,Bind(e,Lambda(x,Application(Variable(b),Variable(x)))))))', name: 'letrec a = (λx. b x); b = (λx. x) in {{{(λx. b x)}}}'} },{ data: { id: 'LetRec(List(Definition(a,Lambda(x,Application(Variable(b),Variable(x)))), Definition(b,Lambda(x,Variable(x)))),Application(Variable(a),Variable(a)))', name: 'letrec a = (λx. b x); b = (λx. x) in a a'} },{ data: { id: 'LetRec(List(Definition(a,Lambda(x,Application(Variable(b),Variable(x)))), Definition(b,Lambda(x,Variable(x)))),Bind(e,Bind(e,Variable(x))))', name: 'letrec a = (λx. b x); b = (λx. x) in {{x}}'} },{ data: { id: 'LetRec(List(Definition(a,Lambda(x,Application(Variable(b),Variable(x)))), Definition(b,Lambda(x,Variable(x)))),Application(Bind(e,Lambda(x,Application(Variable(b),Variable(x)))),Bind(e,Lambda(x,Application(Variable(b),Variable(x))))))', name: 'letrec a = (λx. b x); b = (λx. x) in {(λx. b x)} {(λx. b x)}'} },{ data: { id: 'LetRec(List(Definition(a,Lambda(x,Application(Variable(b),Variable(x)))), Definition(b,Lambda(x,Variable(x)))),Bind(e,Application(Variable(b),Variable(x))))', name: 'letrec a = (λx. b x); b = (λx. x) in {b x}'} },{ data: { id: 'LetRec(List(Definition(a,Lambda(x,Application(Variable(b),Variable(x)))), Definition(b,Lambda(x,Variable(x)))),Bind(e,Bind(e,Lambda(x,Application(Variable(b),Variable(x))))))', name: 'letrec a = (λx. b x); b = (λx. x) in {{(λx. b x)}}'} },{ data: { id: 'LetRec(List(Definition(a,Lambda(x,Application(Variable(b),Variable(x)))), Definition(b,Lambda(x,Variable(x)))),Bind(e,Application(Bind(e,Lambda(x,Variable(x))),Bind(e,Lambda(x,Application(Variable(b),Variable(x)))))))', name: 'letrec a = (λx. b x); b = (λx. x) in {{(λx. x)} {(λx. b x)}}'} }],\n",
       "    edges: [{ data: { source: 'LetRec(List(Definition(a,Lambda(x,Application(Variable(b),Variable(x)))), Definition(b,Lambda(x,Variable(x)))),Bind(e,Application(Bind(e,Lambda(x,Variable(x))),Bind(e,Lambda(x,Application(Variable(b),Variable(x)))))))', target: 'LetRec(List(Definition(a,Lambda(x,Application(Variable(b),Variable(x)))), Definition(b,Lambda(x,Variable(x)))),Bind(e,Bind(e,Variable(x))))', label: '()'} },{ data: { source: 'LetRec(List(Definition(a,Lambda(x,Application(Variable(b),Variable(x)))), Definition(b,Lambda(x,Variable(x)))),Bind(e,Bind(e,Lambda(x,Application(Variable(b),Variable(x))))))', target: 'LetRec(List(Definition(a,Lambda(x,Application(Variable(b),Variable(x)))), Definition(b,Lambda(x,Variable(x)))),Bind(e,Lambda(x,Application(Variable(b),Variable(x)))))', label: '()'} },{ data: { source: 'LetRec(List(Definition(a,Lambda(x,Application(Variable(b),Variable(x)))), Definition(b,Lambda(x,Variable(x)))),Application(Bind(e,Lambda(x,Application(Variable(b),Variable(x)))),Bind(e,Lambda(x,Application(Variable(b),Variable(x))))))', target: 'LetRec(List(Definition(a,Lambda(x,Application(Variable(b),Variable(x)))), Definition(b,Lambda(x,Variable(x)))),Bind(e,Application(Variable(b),Variable(x))))', label: '()'} },{ data: { source: 'LetRec(List(Definition(a,Lambda(x,Application(Variable(b),Variable(x)))), Definition(b,Lambda(x,Variable(x)))),Bind(e,Bind(e,Variable(x))))', target: 'LetRec(List(Definition(a,Lambda(x,Application(Variable(b),Variable(x)))), Definition(b,Lambda(x,Variable(x)))),Bind(e,Bind(e,Bind(e,Lambda(x,Application(Variable(b),Variable(x)))))))', label: '()'} },{ data: { source: 'LetRec(List(Definition(a,Lambda(x,Application(Variable(b),Variable(x)))), Definition(b,Lambda(x,Variable(x)))),Bind(e,Bind(e,Bind(e,Lambda(x,Application(Variable(b),Variable(x)))))))', target: 'LetRec(List(Definition(a,Lambda(x,Application(Variable(b),Variable(x)))), Definition(b,Lambda(x,Variable(x)))),Bind(e,Bind(e,Lambda(x,Application(Variable(b),Variable(x))))))', label: '()'} },{ data: { source: 'LetRec(List(Definition(a,Lambda(x,Application(Variable(b),Variable(x)))), Definition(b,Lambda(x,Variable(x)))),Application(Variable(a),Variable(a)))', target: 'LetRec(List(Definition(a,Lambda(x,Application(Variable(b),Variable(x)))), Definition(b,Lambda(x,Variable(x)))),Application(Bind(e,Lambda(x,Application(Variable(b),Variable(x)))),Variable(a)))', label: '()'} },{ data: { source: 'LetRec(List(Definition(a,Lambda(x,Application(Variable(b),Variable(x)))), Definition(b,Lambda(x,Variable(x)))),Bind(e,Application(Variable(b),Variable(x))))', target: 'LetRec(List(Definition(a,Lambda(x,Application(Variable(b),Variable(x)))), Definition(b,Lambda(x,Variable(x)))),Bind(e,Application(Bind(e,Lambda(x,Variable(x))),Variable(x))))', label: '()'} },{ data: { source: 'LetRec(List(Definition(a,Lambda(x,Application(Variable(b),Variable(x)))), Definition(b,Lambda(x,Variable(x)))),Bind(e,Application(Bind(e,Lambda(x,Variable(x))),Variable(x))))', target: 'LetRec(List(Definition(a,Lambda(x,Application(Variable(b),Variable(x)))), Definition(b,Lambda(x,Variable(x)))),Bind(e,Application(Bind(e,Lambda(x,Variable(x))),Bind(e,Lambda(x,Application(Variable(b),Variable(x)))))))', label: '()'} },{ data: { source: 'LetRec(List(Definition(a,Lambda(x,Application(Variable(b),Variable(x)))), Definition(b,Lambda(x,Variable(x)))),Application(Bind(e,Lambda(x,Application(Variable(b),Variable(x)))),Variable(a)))', target: 'LetRec(List(Definition(a,Lambda(x,Application(Variable(b),Variable(x)))), Definition(b,Lambda(x,Variable(x)))),Application(Bind(e,Lambda(x,Application(Variable(b),Variable(x)))),Bind(e,Lambda(x,Application(Variable(b),Variable(x))))))', label: '()'} }]\n",
       "  }\n",
       "});\n",
       "</script>"
      ]
     },
     "metadata": {},
     "output_type": "display_data"
    }
   ],
   "source": [
    "io.equiv.panproc.ts.CytoscapePrint.setup()\n",
    "\n",
    "io.equiv.panproc.lambda.CallByValueSemantics(lambdaProg).asTransitionSystem()"
   ]
  }
 ],
 "metadata": {
  "kernelspec": {
   "display_name": "Scala 3.1.3",
   "language": "scala",
   "name": "scala_3_1_3"
  },
  "language_info": {
   "codemirror_mode": "text/x-scala",
   "file_extension": ".sc",
   "mimetype": "text/x-scala",
   "name": "scala",
   "nbconvert_exporter": "script",
   "version": "2.13.8"
  },
  "orig_nbformat": 4
 },
 "nbformat": 4,
 "nbformat_minor": 2
}
