{
 "cells": [
  {
   "cell_type": "code",
   "execution_count": 1,
   "metadata": {},
   "outputs": [
    {
     "data": {
      "text/html": [
       "<label for='progress-0e85f6f8-079e-4709-9271-14facdb421e9'>Hello 24 / 100</label><br><progress id='progress-0e85f6f8-079e-4709-9271-14facdb421e9' style='width:60ex' max='100' value='24'></progress>"
      ],
      "text/plain": [
       "Hello 24 / 100\n",
       "[#######################                                                                           ]"
      ]
     },
     "metadata": {},
     "output_type": "display_data"
    },
    {
     "data": {
      "text/plain": [
       "\u001b[32mimport \u001b[39m\u001b[36malmond.display._\n",
       "\n",
       "\u001b[39m"
      ]
     },
     "execution_count": 1,
     "metadata": {},
     "output_type": "execute_result"
    }
   ],
   "source": [
    "import almond.display._\n",
    "\n",
    "ProgressBar(24, 100).withLabel(\"Hello {progress} / {total}\")"
   ]
  },
  {
   "cell_type": "code",
   "execution_count": 2,
   "metadata": {},
   "outputs": [
    {
     "data": {
      "text/plain": [
       "letrec a = (λx. b x); b = (λx. x) in a a"
      ]
     },
     "metadata": {},
     "output_type": "display_data"
    },
    {
     "data": {
      "text/plain": [
       "\u001b[32mimport \u001b[39m\u001b[36m$cp.$          \n",
       "\u001b[39m\n",
       "\u001b[32mimport \u001b[39m\u001b[36mio.equiv.panproc.lambda\n",
       "\u001b[39m\n",
       "\u001b[32mimport \u001b[39m\u001b[36mio.equiv.panproc.lambda.Syntax.Notation._\n",
       "\u001b[39m\n",
       "\u001b[32mimport \u001b[39m\u001b[36mio.equiv.panproc.lambda.LatexPrint\n",
       "\n",
       "\u001b[39m"
      ]
     },
     "execution_count": 2,
     "metadata": {},
     "output_type": "execute_result"
    }
   ],
   "source": [
    "import $cp.lib.panproc\n",
    "import io.equiv.panproc.lambda\n",
    "import io.equiv.panproc.lambda.Syntax.Notation._\n",
    "import io.equiv.panproc.lambda.LatexPrint\n",
    "\n",
    "LatexPrint.setup()\n",
    "\n",
    "val lambdaProg = let.rec(\n",
    "  a = λ(\"x\")(atom(\"b\")(atom(\"x\"))),\n",
    "  b = λ(\"x\")(atom(\"x\")),\n",
    "  atom(\"a\")(atom(\"a\"))\n",
    ")"
   ]
  },
  {
   "cell_type": "code",
   "execution_count": 3,
   "metadata": {},
   "outputs": [
    {
     "data": {
      "text/plain": [
       "\u001b[36mres2\u001b[39m: \u001b[32mString\u001b[39m = \u001b[32m\"\"\"flowchart TD\n",
       "    LetRecListDefinitionaLambdaxApplicationVariablebVariablexDefinitionbLambdaxVariablexApplicationVariableaVariablea[\"letrec a = (λx. b x); b = (λx. x) in a a\"] -- () --> LetRecListDefinitionaLambdaxApplicationVariablebVariablexDefinitionbLambdaxVariablexApplicationBindeLambdaxApplicationVariablebVariablexVariablea[\"letrec a = (λx. b x); b = (λx. x) in {(λx. b x)} a\"]\n",
       "    LetRecListDefinitionaLambdaxApplicationVariablebVariablexDefinitionbLambdaxVariablexBindeApplicationBindeLambdaxVariablexVariablex[\"letrec a = (λx. b x); b = (λx. x) in {{(λx. x)} x}\"] -- () --> LetRecListDefinitionaLambdaxApplicationVariablebVariablexDefinitionbLambdaxVariablexBindeApplicationBindeLambdaxVariablexBindeLambdaxApplicationVariablebVariablex[\"letrec a = (λx. b x); b = (λx. x) in {{(λx. x)} {(λx. b x)}}\"]\n",
       "    LetRecListDefinitionaLambdaxApplicationVariablebVariablexDefinitionbLambdaxVariablexApplicationBindeLambdaxApplicationVariablebVariablexBindeLambdaxApplicationVariablebVariablex[\"letrec a = (λx. b x); b = (λx. x) in {(λx. b x)} {(λx. b x)}\"] -- () --> LetRecListDefinitionaLambdaxApplicationVariablebVariablexDefinitionbLambdaxVariablexBindeApplicationVariablebVariablex[\"letrec a = (λx. b x); b = (λx. x) in {b x}\"]\n",
       "    LetRecListDefinitionaLambdaxApplicationVariablebVariablexDefinitionbLambdaxVariablexBindeBindeLambdaxApplicationVariablebVariablex[\"letrec a = (λx. b x); b = (λx. x) in {{(λx. b x)}}\"] -- () --> LetRecListDefinitionaLambdaxApplicationVariablebVariablexDefinitionbLambdaxVariablexBindeLambdaxApplicationVariablebVariablex[\"letrec a = (λx. b x); b = (λx. x) in {(λx. b x)}\"]\n",
       "    LetRecListDefinitionaLambdaxApplicationVariablebVariablexDefinitionbLambdaxVariablexApplicationBindeLambdaxApplicationVariablebVariablexVariablea[\"letrec a = (λx. b x); b = (λx. x) in {(λx. b x)} a\"] -- () --> LetRecListDefinitionaLambdaxApplicationVariablebVariablexDefinitionbLambdaxVariablexApplicationBindeLambdaxApplicationVariablebVariablexBindeLambdaxApplicationVariablebVariablex[\"letrec a = (λx. b x); b = (λx. x) in {(λx. b x)} {(λx. b x)}\"]\n",
       "    LetRecListDefinitionaLambdaxApplicationVariablebVariablexDefinitionbLambdaxVariablexBindeApplicationVariablebVariablex[\"letrec a = (λx. b x); b = (λx. x) in {b x}\"] -- () --> LetRecListDefinitionaLambdaxApplicationVariablebVariablexDefinitionbLambdaxVariablexBindeApplicationBindeLambdaxVariablexVariablex[\"letrec a = (λx. b x); b = (λx. x) in {{(λx. x)} x}\"]\n",
       "    LetRecListDefinitionaLambdaxApplicationVariablebVariablexDefinitionbLambdaxVariablexBindeBindeBindeLambdaxApplicationVariablebVariablex[\"letrec a = (λx. b x); b = (λx. x) in {{{(λx. b x)}}}\"] -- () --> LetRecListDefinitionaLambdaxApplicationVariablebVariablexDefinitionbLambdaxVariablexBindeBindeLambdaxApplicationVariablebVariablex[\"letrec a = (λx. b x); b = (λx. x) in {{(λx. b x)}}\"]\n",
       "\u001b[39m..."
      ]
     },
     "execution_count": 3,
     "metadata": {},
     "output_type": "execute_result"
    }
   ],
   "source": [
    "lambda.CallByValueSemantics(lambdaProg).asTransitionSystem().toMermaid(prettyPrint = _.pretty)"
   ]
  }
 ],
 "metadata": {
  "kernelspec": {
   "display_name": "Scala 3.1.3",
   "language": "scala",
   "name": "scala_3_1_3"
  },
  "language_info": {
   "codemirror_mode": "text/x-scala",
   "file_extension": ".sc",
   "mimetype": "text/x-scala",
   "name": "scala",
   "nbconvert_exporter": "script",
   "version": "2.13.8"
  },
  "orig_nbformat": 4
 },
 "nbformat": 4,
 "nbformat_minor": 2
}
