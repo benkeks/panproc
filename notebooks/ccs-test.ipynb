{
 "cells": [
  {
   "cell_type": "code",
   "execution_count": 1,
   "metadata": {},
   "outputs": [
    {
     "data": {
      "text/plain": [
       "\u001b[32mimport \u001b[39m\u001b[36m$cp.$          \n",
       "\u001b[39m"
      ]
     },
     "execution_count": 1,
     "metadata": {},
     "output_type": "execute_result"
    }
   ],
   "source": [
    "import $cp.lib.panproc"
   ]
  },
  {
   "cell_type": "code",
   "execution_count": 2,
   "metadata": {},
   "outputs": [
    {
     "data": {
      "text/plain": [
       "letrec P1 = (λx. hello!.(P2 ()) + stop.0); P2 = (λx. reload!.(hello.(P1 ()))) in (P1 () | P2 ()) ⧹ {hello}"
      ]
     },
     "metadata": {},
     "output_type": "display_data"
    },
    {
     "data": {
      "text/plain": [
       "letrec P1 = (λx. world.(P1 ())) in P1 ()"
      ]
     },
     "metadata": {},
     "output_type": "display_data"
    },
    {
     "data": {
      "text/plain": [
       "\u001b[32mimport \u001b[39m\u001b[36mio.equiv.panproc.lambda.Syntax.Notation._\n",
       "\u001b[39m\n",
       "\u001b[32mimport \u001b[39m\u001b[36mio.equiv.panproc.ccs.Syntax.Notation._\n",
       "\n",
       "\u001b[39m"
      ]
     },
     "execution_count": 2,
     "metadata": {},
     "output_type": "execute_result"
    }
   ],
   "source": [
    "import io.equiv.panproc.lambda.Syntax.Notation._\n",
    "import io.equiv.panproc.ccs.Syntax.Notation._\n",
    "\n",
    "io.equiv.panproc.lambda.LatexPrint.setup()\n",
    "\n",
    "val ccsProg = let.rec(\n",
    "  P1 = λ(\"x\")(send(\"hello\") * subProcess(\"P2\") + receive(\"stop\") * nullProcess),\n",
    "  P2 = λ(\"x\")(send(\"reload\") * (receive(\"hello\") * subProcess(\"P1\"))),\n",
    "  (subProcess(\"P1\") | subProcess(\"P2\")) \\ Set(\"hello\")\n",
    ")\n",
    "\n",
    "val ccsIterProg = let.rec(\n",
    "  P1 = λ(\"x\")(receive(\"world\") * subProcess(\"P1\")),\n",
    "  subProcess(\"P1\")\n",
    ")"
   ]
  },
  {
   "cell_type": "code",
   "execution_count": 5,
   "metadata": {},
   "outputs": [
    {
     "data": {
      "text/html": [
       "<div id=\"cy\" style=\"width: 100%; height: 550px;\"></div>\n",
       "\n",
       "<script type=\"module\">\n",
       "import cytoscape from \"../node_modules/cytoscape/dist/cytoscape.esm.min.js\";\n",
       "\n",
       "var cy = cytoscape({\n",
       "  container: document.getElementById('cy'),\n",
       "\n",
       "  layout: {\n",
       "    name: 'cose',\n",
       "    padding: 10\n",
       "  },\n",
       "\n",
       "  style: cytoscape.stylesheet()\n",
       "    .selector('node')\n",
       "      .style({\n",
       "        'content': 'data(name)',\n",
       "        'text-valign': 'center'\n",
       "      })\n",
       "    .selector(':selected')\n",
       "      .style({\n",
       "        'border-width': 3,\n",
       "        'border-color': '#333'\n",
       "      })\n",
       "    .selector('edge')\n",
       "      .style({\n",
       "        'opacity': 0.666,\n",
       "        'curve-style': 'bezier',\n",
       "        'target-arrow-shape': 'triangle',\n",
       "        'label': 'data(label)'\n",
       "      }),\n",
       "\n",
       "  elements: {\n",
       "    nodes: [{ data: { id: 'LetRec(List(Definition(P1,Lambda(x,Choice(List(Send(hello,Choice(List(Application(Variable(P2),Unit())))), Receive(stop,Choice(List())))))), Definition(P2,Lambda(x,Send(reload,Receive(hello,Choice(List(Application(Variable(P1),Unit())))))))),Restrict(List(hello),Parallel(List(Choice(List(Application(Variable(P1),Unit()))), Choice(List(Application(Variable(P2),Unit())))))))', name: 'letrec P1 = (λx. hello!.(P2 ()) + stop.0); P2 = (λx. reload!.(hello.(P1 ()))) in (P1 () | P2 ()) ⧹ {hello}'} },{ data: { id: 'Bind(1: P1,P2,Restrict(List(hello),Bind(1: P1,P2,Parallel(List(Bind(1: x,P1,P2,Choice(List())), Bind(1: x,P1,P2,Choice(List(Application(Variable(P2),Unit())))))))))', name: '{({{0} | {P2 ()}}) ⧹ {hello}}'} },{ data: { id: 'Bind(1: P1,P2,Restrict(List(hello),Bind(1: P1,P2,Parallel(List(Bind(1: x,P1,P2,Receive(hello,Choice(List(Application(Variable(P1),Unit()))))), Bind(1: x,P1,P2,Choice(List(Application(Variable(P1),Unit())))))))))', name: '{({{hello.(P1 ())} | {P1 ()}}) ⧹ {hello}}'} },{ data: { id: 'Bind(1: P1,P2,Restrict(List(hello),Bind(1: P1,P2,Parallel(List(Bind(1: x,P1,P2,Choice(List())), Bind(1: x,P1,P2,Receive(hello,Choice(List(Application(Variable(P1),Unit()))))))))))', name: '{({{0} | {hello.(P1 ())}}) ⧹ {hello}}'} },{ data: { id: 'Bind(1: P1,P2,Restrict(List(hello),Bind(1: P1,P2,Parallel(List(Bind(1: x,P1,P2,Receive(hello,Choice(List(Application(Variable(P1),Unit()))))), Bind(1: x,P1,P2,Choice(List())))))))', name: '{({{hello.(P1 ())} | {0}}) ⧹ {hello}}'} },{ data: { id: 'Bind(1: P1,P2,Restrict(List(hello),Bind(1: P1,P2,Parallel(List(Bind(1: x,P1,P2,Choice(List())), Choice(List(Application(Variable(P2),Unit()))))))))', name: '{({{0} | P2 ()}) ⧹ {hello}}'} },{ data: { id: 'Bind(1: P1,P2,Restrict(List(hello),Bind(1: P1,P2,Parallel(List(Choice(List(Application(Variable(P1),Unit()))), Bind(1: x,P1,P2,Receive(hello,Choice(List(Application(Variable(P1),Unit()))))))))))', name: '{({P1 () | {hello.(P1 ())}}) ⧹ {hello}}'} },{ data: { id: 'Bind(1: P1,P2,Restrict(List(hello),Bind(1: P1,P2,Parallel(List(Bind(1: x,P1,P2,Choice(List(Application(Variable(P1),Unit())))), Bind(1: x,P1,P2,Receive(hello,Choice(List(Application(Variable(P1),Unit()))))))))))', name: '{({{P1 ()} | {hello.(P1 ())}}) ⧹ {hello}}'} },{ data: { id: 'Bind(1: P1,P2,Restrict(List(hello),Bind(1: P1,P2,Parallel(List(Bind(1: x,P1,P2,Choice(List(Application(Variable(P2),Unit())))), Bind(1: x,P1,P2,Choice(List(Application(Variable(P1),Unit())))))))))', name: '{({{P2 ()} | {P1 ()}}) ⧹ {hello}}'} },{ data: { id: 'Bind(1: P1,P2,Restrict(List(hello),Bind(1: P1,P2,Parallel(List(Bind(1: x,P1,P2,Choice(List(Application(Variable(P2),Unit())))), Bind(1: x,P1,P2,Choice(List())))))))', name: '{({{P2 ()} | {0}}) ⧹ {hello}}'} },{ data: { id: 'Bind(1: P1,P2,Restrict(List(hello),Bind(1: P1,P2,Parallel(List(Bind(1: x,P1,P2,Choice(List(Application(Variable(P1),Unit())))), Bind(1: x,P1,P2,Choice(List(Application(Variable(P2),Unit())))))))))', name: '{({{P1 ()} | {P2 ()}}) ⧹ {hello}}'} }],\n",
       "    edges: [{ data: { source: 'Bind(1: P1,P2,Restrict(List(hello),Bind(1: P1,P2,Parallel(List(Bind(1: x,P1,P2,Choice(List(Application(Variable(P1),Unit())))), Bind(1: x,P1,P2,Choice(List(Application(Variable(P2),Unit())))))))))', target: 'Bind(1: P1,P2,Restrict(List(hello),Bind(1: P1,P2,Parallel(List(Bind(1: x,P1,P2,Choice(List(Application(Variable(P1),Unit())))), Bind(1: x,P1,P2,Receive(hello,Choice(List(Application(Variable(P1),Unit()))))))))))', label: 'reload!⟨⟩'} },{ data: { source: 'Bind(1: P1,P2,Restrict(List(hello),Bind(1: P1,P2,Parallel(List(Choice(List(Application(Variable(P1),Unit()))), Bind(1: x,P1,P2,Receive(hello,Choice(List(Application(Variable(P1),Unit()))))))))))', target: 'Bind(1: P1,P2,Restrict(List(hello),Bind(1: P1,P2,Parallel(List(Bind(1: x,P1,P2,Choice(List())), Bind(1: x,P1,P2,Receive(hello,Choice(List(Application(Variable(P1),Unit()))))))))))', label: 'stop()'} },{ data: { source: 'LetRec(List(Definition(P1,Lambda(x,Choice(List(Send(hello,Choice(List(Application(Variable(P2),Unit())))), Receive(stop,Choice(List())))))), Definition(P2,Lambda(x,Send(reload,Receive(hello,Choice(List(Application(Variable(P1),Unit())))))))),Restrict(List(hello),Parallel(List(Choice(List(Application(Variable(P1),Unit()))), Choice(List(Application(Variable(P2),Unit())))))))', target: 'Bind(1: P1,P2,Restrict(List(hello),Bind(1: P1,P2,Parallel(List(Choice(List(Application(Variable(P1),Unit()))), Bind(1: x,P1,P2,Receive(hello,Choice(List(Application(Variable(P1),Unit()))))))))))', label: 'reload!⟨⟩'} },{ data: { source: 'Bind(1: P1,P2,Restrict(List(hello),Bind(1: P1,P2,Parallel(List(Bind(1: x,P1,P2,Choice(List(Application(Variable(P2),Unit())))), Bind(1: x,P1,P2,Choice(List(Application(Variable(P1),Unit())))))))))', target: 'Bind(1: P1,P2,Restrict(List(hello),Bind(1: P1,P2,Parallel(List(Bind(1: x,P1,P2,Choice(List(Application(Variable(P2),Unit())))), Bind(1: x,P1,P2,Choice(List())))))))', label: 'stop()'} },{ data: { source: 'Bind(1: P1,P2,Restrict(List(hello),Bind(1: P1,P2,Parallel(List(Bind(1: x,P1,P2,Choice(List(Application(Variable(P2),Unit())))), Bind(1: x,P1,P2,Choice(List())))))))', target: 'Bind(1: P1,P2,Restrict(List(hello),Bind(1: P1,P2,Parallel(List(Bind(1: x,P1,P2,Receive(hello,Choice(List(Application(Variable(P1),Unit()))))), Bind(1: x,P1,P2,Choice(List())))))))', label: 'reload!⟨⟩'} },{ data: { source: 'Bind(1: P1,P2,Restrict(List(hello),Bind(1: P1,P2,Parallel(List(Bind(1: x,P1,P2,Choice(List())), Choice(List(Application(Variable(P2),Unit()))))))))', target: 'Bind(1: P1,P2,Restrict(List(hello),Bind(1: P1,P2,Parallel(List(Bind(1: x,P1,P2,Choice(List())), Bind(1: x,P1,P2,Receive(hello,Choice(List(Application(Variable(P1),Unit()))))))))))', label: 'reload!⟨⟩'} },{ data: { source: 'Bind(1: P1,P2,Restrict(List(hello),Bind(1: P1,P2,Parallel(List(Bind(1: x,P1,P2,Choice(List(Application(Variable(P1),Unit())))), Bind(1: x,P1,P2,Receive(hello,Choice(List(Application(Variable(P1),Unit()))))))))))', target: 'Bind(1: P1,P2,Restrict(List(hello),Bind(1: P1,P2,Parallel(List(Bind(1: x,P1,P2,Choice(List())), Bind(1: x,P1,P2,Receive(hello,Choice(List(Application(Variable(P1),Unit()))))))))))', label: 'stop()'} },{ data: { source: 'LetRec(List(Definition(P1,Lambda(x,Choice(List(Send(hello,Choice(List(Application(Variable(P2),Unit())))), Receive(stop,Choice(List())))))), Definition(P2,Lambda(x,Send(reload,Receive(hello,Choice(List(Application(Variable(P1),Unit())))))))),Restrict(List(hello),Parallel(List(Choice(List(Application(Variable(P1),Unit()))), Choice(List(Application(Variable(P2),Unit())))))))', target: 'Bind(1: P1,P2,Restrict(List(hello),Bind(1: P1,P2,Parallel(List(Bind(1: x,P1,P2,Choice(List())), Choice(List(Application(Variable(P2),Unit()))))))))', label: 'stop()'} },{ data: { source: 'Bind(1: P1,P2,Restrict(List(hello),Bind(1: P1,P2,Parallel(List(Choice(List(Application(Variable(P1),Unit()))), Bind(1: x,P1,P2,Receive(hello,Choice(List(Application(Variable(P1),Unit()))))))))))', target: 'Bind(1: P1,P2,Restrict(List(hello),Bind(1: P1,P2,Parallel(List(Bind(1: x,P1,P2,Choice(List(Application(Variable(P2),Unit())))), Bind(1: x,P1,P2,Choice(List(Application(Variable(P1),Unit())))))))))', label: 'τ'} },{ data: { source: 'Bind(1: P1,P2,Restrict(List(hello),Bind(1: P1,P2,Parallel(List(Bind(1: x,P1,P2,Choice(List(Application(Variable(P2),Unit())))), Bind(1: x,P1,P2,Choice(List(Application(Variable(P1),Unit())))))))))', target: 'Bind(1: P1,P2,Restrict(List(hello),Bind(1: P1,P2,Parallel(List(Bind(1: x,P1,P2,Receive(hello,Choice(List(Application(Variable(P1),Unit()))))), Bind(1: x,P1,P2,Choice(List(Application(Variable(P1),Unit())))))))))', label: 'reload!⟨⟩'} },{ data: { source: 'Bind(1: P1,P2,Restrict(List(hello),Bind(1: P1,P2,Parallel(List(Bind(1: x,P1,P2,Receive(hello,Choice(List(Application(Variable(P1),Unit()))))), Bind(1: x,P1,P2,Choice(List(Application(Variable(P1),Unit())))))))))', target: 'Bind(1: P1,P2,Restrict(List(hello),Bind(1: P1,P2,Parallel(List(Bind(1: x,P1,P2,Receive(hello,Choice(List(Application(Variable(P1),Unit()))))), Bind(1: x,P1,P2,Choice(List())))))))', label: 'stop()'} },{ data: { source: 'Bind(1: P1,P2,Restrict(List(hello),Bind(1: P1,P2,Parallel(List(Bind(1: x,P1,P2,Choice(List(Application(Variable(P1),Unit())))), Bind(1: x,P1,P2,Choice(List(Application(Variable(P2),Unit())))))))))', target: 'Bind(1: P1,P2,Restrict(List(hello),Bind(1: P1,P2,Parallel(List(Bind(1: x,P1,P2,Choice(List())), Bind(1: x,P1,P2,Choice(List(Application(Variable(P2),Unit())))))))))', label: 'stop()'} },{ data: { source: 'Bind(1: P1,P2,Restrict(List(hello),Bind(1: P1,P2,Parallel(List(Bind(1: x,P1,P2,Choice(List())), Bind(1: x,P1,P2,Choice(List(Application(Variable(P2),Unit())))))))))', target: 'Bind(1: P1,P2,Restrict(List(hello),Bind(1: P1,P2,Parallel(List(Bind(1: x,P1,P2,Choice(List())), Bind(1: x,P1,P2,Receive(hello,Choice(List(Application(Variable(P1),Unit()))))))))))', label: 'reload!⟨⟩'} },{ data: { source: 'Bind(1: P1,P2,Restrict(List(hello),Bind(1: P1,P2,Parallel(List(Bind(1: x,P1,P2,Receive(hello,Choice(List(Application(Variable(P1),Unit()))))), Bind(1: x,P1,P2,Choice(List(Application(Variable(P1),Unit())))))))))', target: 'Bind(1: P1,P2,Restrict(List(hello),Bind(1: P1,P2,Parallel(List(Bind(1: x,P1,P2,Choice(List(Application(Variable(P1),Unit())))), Bind(1: x,P1,P2,Choice(List(Application(Variable(P2),Unit())))))))))', label: 'τ'} },{ data: { source: 'Bind(1: P1,P2,Restrict(List(hello),Bind(1: P1,P2,Parallel(List(Bind(1: x,P1,P2,Choice(List(Application(Variable(P1),Unit())))), Bind(1: x,P1,P2,Receive(hello,Choice(List(Application(Variable(P1),Unit()))))))))))', target: 'Bind(1: P1,P2,Restrict(List(hello),Bind(1: P1,P2,Parallel(List(Bind(1: x,P1,P2,Choice(List(Application(Variable(P2),Unit())))), Bind(1: x,P1,P2,Choice(List(Application(Variable(P1),Unit())))))))))', label: 'τ'} }]\n",
       "  }\n",
       "});\n",
       "</script>"
      ]
     },
     "metadata": {},
     "output_type": "display_data"
    }
   ],
   "source": [
    "io.equiv.panproc.ts.CytoscapePrint.setup()\n",
    "//io.equiv.panproc.ccs.Semantics(ccsProg).eval(io.equiv.panproc.lambda.CallByValueSemantics.emptyEnv)(\"hello\" *: RecProc(\"P1\"))\n",
    "io.equiv.panproc.ccs.Semantics(ccsProg).asTransitionSystem()"
   ]
  }
 ],
 "metadata": {
  "kernelspec": {
   "display_name": "Scala",
   "language": "scala",
   "name": "scala"
  },
  "language_info": {
   "codemirror_mode": "text/x-scala",
   "file_extension": ".sc",
   "mimetype": "text/x-scala",
   "name": "scala",
   "nbconvert_exporter": "script",
   "version": "2.13.10"
  },
  "orig_nbformat": 4
 },
 "nbformat": 4,
 "nbformat_minor": 2
}
