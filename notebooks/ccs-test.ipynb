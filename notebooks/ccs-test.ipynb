{
 "cells": [
  {
   "cell_type": "code",
   "execution_count": 1,
   "metadata": {},
   "outputs": [
    {
     "data": {
      "text/plain": [
       "\u001b[32mimport \u001b[39m\u001b[36m$cp.$          \n",
       "\u001b[39m"
      ]
     },
     "execution_count": 1,
     "metadata": {},
     "output_type": "execute_result"
    }
   ],
   "source": [
    "import $cp.lib.panproc"
   ]
  },
  {
   "cell_type": "code",
   "execution_count": 2,
   "metadata": {},
   "outputs": [
    {
     "data": {
      "text/plain": [
       "letrec P1 = (λx. hello.(P2 0) + stop.0); P2 = (λx. reload.(hello.(P1 0))) in (P1 0 | P2 0) ⧹ {hello}"
      ]
     },
     "metadata": {},
     "output_type": "display_data"
    },
    {
     "data": {
      "text/plain": [
       "letrec P1 = (λx. world.(P1 0)) in P1 0"
      ]
     },
     "metadata": {},
     "output_type": "display_data"
    },
    {
     "data": {
      "text/plain": [
       "\u001b[32mimport \u001b[39m\u001b[36mio.equiv.panproc.lambda.Syntax.Notation._\n",
       "\u001b[39m\n",
       "\u001b[32mimport \u001b[39m\u001b[36mio.equiv.panproc.ccs.Syntax.{ NullProcess, RecProc }\n",
       "\n",
       "\u001b[39m"
      ]
     },
     "execution_count": 2,
     "metadata": {},
     "output_type": "execute_result"
    }
   ],
   "source": [
    "import io.equiv.panproc.lambda.Syntax.Notation._\n",
    "import io.equiv.panproc.ccs.Syntax.{ NullProcess, RecProc }\n",
    "\n",
    "io.equiv.panproc.lambda.LatexPrint.setup()\n",
    "\n",
    "val ccsProg = let.rec(\n",
    "  P1 =  λ(\"x\")(\"hello!\" *: RecProc(\"P2\") + \"stop\" *: NullProcess()),\n",
    "  P2 =  λ(\"x\")(\"reload!\" *: \"hello\" *: RecProc(\"P1\")),\n",
    "  (RecProc(\"P1\") | RecProc(\"P2\")) \\ Set(\"hello\")\n",
    ")\n",
    "\n",
    "val ccsIterProg = let.rec(\n",
    "  P1 = λ(\"x\")(\"world\" *: RecProc(\"P1\")),\n",
    "  atom(\"P1\")(num(0))\n",
    ")"
   ]
  },
  {
   "cell_type": "code",
   "execution_count": 3,
   "metadata": {},
   "outputs": [
    {
     "name": "stdout",
     "output_type": "stream",
     "text": [
      "process: LetRec(List(Definition(P1,Lambda(x,Prefix(world(),Choice(List(Application(Variable(P1),Number(0)))))))),Application(Variable(P1),Number(0)))\n",
      "rule for: LetRec(List(Definition(P1,Lambda(x,Prefix(world(),Choice(List(Application(Variable(P1),Number(0)))))))),Application(Variable(P1),Number(0)))\n",
      "eval internal: LetRec(List(Definition(P1,Lambda(x,Prefix(world(),Choice(List(Application(Variable(P1),Number(0)))))))),Application(Variable(P1),Number(0)))\n",
      "lambda rule for: LetRec(List(Definition(P1,Lambda(x,Prefix(world(),Choice(List(Application(Variable(P1),Number(0)))))))),Application(Variable(P1),Number(0)))\n",
      "rule for: Application(Variable(P1),Number(0))\n",
      "eval internal: Application(Variable(P1),Number(0))\n",
      "lambda rule for: Application(Variable(P1),Number(0))\n",
      "rule for: Variable(P1)\n",
      "eval internal: Variable(P1)\n",
      "lambda rule for: Variable(P1)\n",
      "eval internal: Bind(1:P1,Lambda(x,Prefix(world(),Choice(List(Application(Variable(P1),Number(0)))))))\n",
      "eval result: Bind(1:P1,Lambda(x,Prefix(world(),Choice(List(Application(Variable(P1),Number(0)))))))\n",
      "eval internal: Application(Bind(1:P1,Lambda(x,Prefix(world(),Choice(List(Application(Variable(P1),Number(0))))))),Number(0))\n",
      "lambda rule for: Application(Bind(1:P1,Lambda(x,Prefix(world(),Choice(List(Application(Variable(P1),Number(0))))))),Number(0))\n",
      "eval internal: Bind(1:x,P1,Prefix(world(),Choice(List(Application(Variable(P1),Number(0))))))\n",
      "lambda rule for: Bind(1:x,P1,Prefix(world(),Choice(List(Application(Variable(P1),Number(0))))))\n",
      "rule for: Prefix(world(),Choice(List(Application(Variable(P1),Number(0)))))\n",
      "process: LetRec(List(Definition(P1,Lambda(x,Prefix(world(),Choice(List(Application(Variable(P1),Number(0)))))))),Bind(1:x,P1,Choice(List(Application(Variable(P1),Number(0))))))\n",
      "rule for: LetRec(List(Definition(P1,Lambda(x,Prefix(world(),Choice(List(Application(Variable(P1),Number(0)))))))),Bind(1:x,P1,Choice(List(Application(Variable(P1),Number(0))))))\n",
      "eval internal: LetRec(List(Definition(P1,Lambda(x,Prefix(world(),Choice(List(Application(Variable(P1),Number(0)))))))),Bind(1:x,P1,Choice(List(Application(Variable(P1),Number(0))))))\n",
      "lambda rule for: LetRec(List(Definition(P1,Lambda(x,Prefix(world(),Choice(List(Application(Variable(P1),Number(0)))))))),Bind(1:x,P1,Choice(List(Application(Variable(P1),Number(0))))))\n",
      "rule for: Bind(1:x,P1,Choice(List(Application(Variable(P1),Number(0)))))\n",
      "eval internal: Bind(1:x,P1,Choice(List(Application(Variable(P1),Number(0)))))\n",
      "lambda rule for: Bind(1:x,P1,Choice(List(Application(Variable(P1),Number(0)))))\n",
      "rule for: Choice(List(Application(Variable(P1),Number(0))))\n",
      "rule for: Application(Variable(P1),Number(0))\n",
      "eval internal: Application(Variable(P1),Number(0))\n",
      "lambda rule for: Application(Variable(P1),Number(0))\n",
      "rule for: Variable(P1)\n",
      "eval internal: Variable(P1)\n",
      "lambda rule for: Variable(P1)\n",
      "eval internal: Bind(1:P1,Lambda(x,Prefix(world(),Choice(List(Application(Variable(P1),Number(0)))))))\n",
      "eval result: Bind(1:P1,Lambda(x,Prefix(world(),Choice(List(Application(Variable(P1),Number(0)))))))\n",
      "eval internal: Application(Bind(1:P1,Lambda(x,Prefix(world(),Choice(List(Application(Variable(P1),Number(0))))))),Number(0))\n",
      "lambda rule for: Application(Bind(1:P1,Lambda(x,Prefix(world(),Choice(List(Application(Variable(P1),Number(0))))))),Number(0))\n",
      "eval internal: Bind(1:x,P1,Prefix(world(),Choice(List(Application(Variable(P1),Number(0))))))\n",
      "lambda rule for: Bind(1:x,P1,Prefix(world(),Choice(List(Application(Variable(P1),Number(0))))))\n",
      "rule for: Prefix(world(),Choice(List(Application(Variable(P1),Number(0)))))\n",
      "process: LetRec(List(Definition(P1,Lambda(x,Prefix(world(),Choice(List(Application(Variable(P1),Number(0)))))))),Bind(1:x,P1,Bind(1:x,P1,Choice(List(Application(Variable(P1),Number(0)))))))\n",
      "rule for: LetRec(List(Definition(P1,Lambda(x,Prefix(world(),Choice(List(Application(Variable(P1),Number(0)))))))),Bind(1:x,P1,Bind(1:x,P1,Choice(List(Application(Variable(P1),Number(0)))))))\n",
      "eval internal: LetRec(List(Definition(P1,Lambda(x,Prefix(world(),Choice(List(Application(Variable(P1),Number(0)))))))),Bind(1:x,P1,Bind(1:x,P1,Choice(List(Application(Variable(P1),Number(0)))))))\n",
      "lambda rule for: LetRec(List(Definition(P1,Lambda(x,Prefix(world(),Choice(List(Application(Variable(P1),Number(0)))))))),Bind(1:x,P1,Bind(1:x,P1,Choice(List(Application(Variable(P1),Number(0)))))))\n",
      "rule for: Bind(1:x,P1,Bind(1:x,P1,Choice(List(Application(Variable(P1),Number(0))))))\n",
      "eval internal: Bind(1:x,P1,Bind(1:x,P1,Choice(List(Application(Variable(P1),Number(0))))))\n",
      "lambda rule for: Bind(1:x,P1,Bind(1:x,P1,Choice(List(Application(Variable(P1),Number(0))))))\n",
      "eval internal: Bind(1:x,P1,Choice(List(Application(Variable(P1),Number(0)))))\n",
      "lambda rule for: Bind(1:x,P1,Choice(List(Application(Variable(P1),Number(0)))))\n",
      "rule for: Choice(List(Application(Variable(P1),Number(0))))\n",
      "rule for: Application(Variable(P1),Number(0))\n",
      "eval internal: Application(Variable(P1),Number(0))\n",
      "lambda rule for: Application(Variable(P1),Number(0))\n",
      "rule for: Variable(P1)\n",
      "eval internal: Variable(P1)\n",
      "lambda rule for: Variable(P1)\n",
      "eval internal: Bind(1:P1,Lambda(x,Prefix(world(),Choice(List(Application(Variable(P1),Number(0)))))))\n",
      "eval result: Bind(1:P1,Lambda(x,Prefix(world(),Choice(List(Application(Variable(P1),Number(0)))))))\n",
      "eval internal: Application(Bind(1:P1,Lambda(x,Prefix(world(),Choice(List(Application(Variable(P1),Number(0))))))),Number(0))\n",
      "lambda rule for: Application(Bind(1:P1,Lambda(x,Prefix(world(),Choice(List(Application(Variable(P1),Number(0))))))),Number(0))\n",
      "eval internal: Bind(1:x,P1,Prefix(world(),Choice(List(Application(Variable(P1),Number(0))))))\n",
      "lambda rule for: Bind(1:x,P1,Prefix(world(),Choice(List(Application(Variable(P1),Number(0))))))\n",
      "rule for: Prefix(world(),Choice(List(Application(Variable(P1),Number(0)))))\n",
      "process: LetRec(List(Definition(P1,Lambda(x,Prefix(world(),Choice(List(Application(Variable(P1),Number(0)))))))),Bind(1:x,P1,Bind(1:x,P1,Choice(List(Application(Variable(P1),Number(0)))))))\n"
     ]
    },
    {
     "data": {
      "text/html": [
       "<div id=\"cy\" style=\"width: 100%; height: 250px;\"></div>\n",
       "\n",
       "<script type=\"module\">\n",
       "import cytoscape from \"../node_modules/cytoscape/dist/cytoscape.esm.min.js\";\n",
       "\n",
       "var cy = cytoscape({\n",
       "  container: document.getElementById('cy'),\n",
       "\n",
       "  layout: {\n",
       "    name: 'cose',\n",
       "    padding: 10\n",
       "  },\n",
       "\n",
       "  style: cytoscape.stylesheet()\n",
       "    .selector('node')\n",
       "      .style({\n",
       "        'content': 'data(name)',\n",
       "        'text-valign': 'center'\n",
       "      })\n",
       "    .selector(':selected')\n",
       "      .style({\n",
       "        'border-width': 3,\n",
       "        'border-color': '#333'\n",
       "      })\n",
       "    .selector('edge')\n",
       "      .style({\n",
       "        'opacity': 0.666,\n",
       "        'curve-style': 'bezier',\n",
       "        'target-arrow-shape': 'triangle',\n",
       "        'label': 'data(label)'\n",
       "      }),\n",
       "\n",
       "  elements: {\n",
       "    nodes: [{ data: { id: 'LetRec(List(Definition(P1,Lambda(x,Prefix(world(),Choice(List(Application(Variable(P1),Number(0)))))))),Application(Variable(P1),Number(0)))', name: 'letrec P1 = (λx. world.(P1 0)) in P1 0'} },{ data: { id: 'LetRec(List(Definition(P1,Lambda(x,Prefix(world(),Choice(List(Application(Variable(P1),Number(0)))))))),Bind(1:x,P1,Choice(List(Application(Variable(P1),Number(0))))))', name: 'letrec P1 = (λx. world.(P1 0)) in {P1 0}'} },{ data: { id: 'LetRec(List(Definition(P1,Lambda(x,Prefix(world(),Choice(List(Application(Variable(P1),Number(0)))))))),Bind(1:x,P1,Bind(1:x,P1,Choice(List(Application(Variable(P1),Number(0)))))))', name: 'letrec P1 = (λx. world.(P1 0)) in {{P1 0}}'} }],\n",
       "    edges: [{ data: { source: 'LetRec(List(Definition(P1,Lambda(x,Prefix(world(),Choice(List(Application(Variable(P1),Number(0)))))))),Application(Variable(P1),Number(0)))', target: 'LetRec(List(Definition(P1,Lambda(x,Prefix(world(),Choice(List(Application(Variable(P1),Number(0)))))))),Bind(1:x,P1,Choice(List(Application(Variable(P1),Number(0))))))', label: 'world()'} },{ data: { source: 'LetRec(List(Definition(P1,Lambda(x,Prefix(world(),Choice(List(Application(Variable(P1),Number(0)))))))),Bind(1:x,P1,Choice(List(Application(Variable(P1),Number(0))))))', target: 'LetRec(List(Definition(P1,Lambda(x,Prefix(world(),Choice(List(Application(Variable(P1),Number(0)))))))),Bind(1:x,P1,Bind(1:x,P1,Choice(List(Application(Variable(P1),Number(0)))))))', label: 'world()'} },{ data: { source: 'LetRec(List(Definition(P1,Lambda(x,Prefix(world(),Choice(List(Application(Variable(P1),Number(0)))))))),Bind(1:x,P1,Bind(1:x,P1,Choice(List(Application(Variable(P1),Number(0)))))))', target: 'LetRec(List(Definition(P1,Lambda(x,Prefix(world(),Choice(List(Application(Variable(P1),Number(0)))))))),Bind(1:x,P1,Bind(1:x,P1,Choice(List(Application(Variable(P1),Number(0)))))))', label: 'world()'} }]\n",
       "  }\n",
       "});\n",
       "</script>"
      ]
     },
     "metadata": {},
     "output_type": "display_data"
    }
   ],
   "source": [
    "io.equiv.panproc.ts.CytoscapePrint.setup()\n",
    "//io.equiv.panproc.ccs.Semantics(ccsProg).eval(io.equiv.panproc.lambda.CallByValueSemantics.emptyEnv)(\"hello\" *: RecProc(\"P1\"))\n",
    "io.equiv.panproc.ccs.Semantics(ccsIterProg).asTransitionSystem()"
   ]
  }
 ],
 "metadata": {
  "kernelspec": {
   "display_name": "Scala 3.1.3",
   "language": "scala",
   "name": "scala_3_1_3"
  },
  "language_info": {
   "codemirror_mode": "text/x-scala",
   "file_extension": ".sc",
   "mimetype": "text/x-scala",
   "name": "scala",
   "nbconvert_exporter": "script",
   "version": "2.13.8"
  },
  "orig_nbformat": 4
 },
 "nbformat": 4,
 "nbformat_minor": 2
}
