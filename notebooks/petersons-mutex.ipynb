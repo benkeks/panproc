{
 "cells": [
  {
   "cell_type": "code",
   "execution_count": 1,
   "metadata": {},
   "outputs": [
    {
     "data": {
      "text/plain": [
       "\u001b[32mimport \u001b[39m\u001b[36m$cp.$          \n",
       "\u001b[39m\n",
       "\u001b[32mimport \u001b[39m\u001b[36mscala.language.implicitConversions\n",
       "\u001b[39m"
      ]
     },
     "execution_count": 1,
     "metadata": {},
     "output_type": "execute_result"
    }
   ],
   "source": [
    "import $cp.lib.panproc\n",
    "import scala.language.implicitConversions"
   ]
  },
  {
   "cell_type": "code",
   "execution_count": 2,
   "metadata": {},
   "outputs": [
    {
     "data": {
      "text/plain": [
       "letrec Buffer = (λx. (set new).(Buffer new) + get x!.(Buffer x)); z = 23 in (set z!.0 | Buffer 1) ⧹ {Constructor(set,x)}"
      ]
     },
     "metadata": {},
     "output_type": "display_data"
    },
    {
     "data": {
      "text/plain": [
       "\u001b[32mimport \u001b[39m\u001b[36mio.equiv.panproc.lambda.Syntax.Notation.{*, given}\n",
       "\u001b[39m\n",
       "\u001b[32mimport \u001b[39m\u001b[36mio.equiv.panproc.ccs.Syntax.Notation.*\n",
       "\n",
       "\u001b[39m"
      ]
     },
     "execution_count": 2,
     "metadata": {},
     "output_type": "execute_result"
    }
   ],
   "source": [
    "import io.equiv.panproc.lambda.Syntax.Notation.{*, given}\n",
    "import io.equiv.panproc.ccs.Syntax.Notation.*\n",
    "\n",
    "io.equiv.panproc.lambda.LatexPrint.setup()\n",
    "io.equiv.panproc.ts.CytoscapePrint.setup()\n",
    "\n",
    "val ccsProg = let.rec(\n",
    "  Buffer = λ(\"x\")(receive(\"set\"(\"new\")) * subProcess(\"Buffer\", \"new\") + send(\"get\"(\"x\")) * subProcess(\"Buffer\", \"x\")),\n",
    "  z = 23,\n",
    "  (send(\"set\"(\"z\")) * nullProcess | (subProcess(\"Buffer\", 1))) \\ Set(\"set\"(\"x\"))\n",
    ")\n"
   ]
  },
  {
   "cell_type": "code",
   "execution_count": 3,
   "metadata": {},
   "outputs": [
    {
     "data": {
      "text/html": [
       "<div id=\"cy\" style=\"width: 100%; height: 550px;\"></div>\n",
       "\n",
       "<script type=\"module\">\n",
       "import cytoscape from \"../node_modules/cytoscape/dist/cytoscape.esm.min.js\";\n",
       "\n",
       "var cy = cytoscape({\n",
       "  container: document.getElementById('cy'),\n",
       "\n",
       "  layout: {\n",
       "    name: 'cose',\n",
       "    padding: 10\n",
       "  },\n",
       "\n",
       "  style: cytoscape.stylesheet()\n",
       "    .selector('node')\n",
       "      .style({\n",
       "        'content': 'data(name)',\n",
       "        'text-valign': 'center'\n",
       "      })\n",
       "    .selector(':selected')\n",
       "      .style({\n",
       "        'border-width': 3,\n",
       "        'border-color': '#333'\n",
       "      })\n",
       "    .selector('edge')\n",
       "      .style({\n",
       "        'opacity': 0.666,\n",
       "        'curve-style': 'bezier',\n",
       "        'target-arrow-shape': 'triangle',\n",
       "        'label': 'data(label)'\n",
       "      }),\n",
       "\n",
       "  elements: {\n",
       "    nodes: [{ data: { id: 'Bind(1: Buffer,z,Restrict(List(Constructor(set,x)),Bind(1: Buffer,z,Parallel(List(Send(Application(set,z),Choice(List())), Bind(1: x,Buffer,z,Choice(List(Application(Buffer,x)))))))))', name: '{({set z!.0 | {Buffer x}}) ⧹ {Constructor(set,x)}}'} },{ data: { id: 'Bind(1: Buffer,z,Restrict(List(Constructor(set,x)),Bind(1: Buffer,z,Parallel(List(Bind(1: Buffer,z,Choice(List())), Bind(1: x,Buffer,z,Choice(List(Application(Buffer,x)))))))))', name: '{({{0} | {Buffer x}}) ⧹ {Constructor(set,x)}}'} },{ data: { id: 'Bind(1: ,Restrict(List(Constructor(set,x)),Bind(1: Buffer,z,Parallel(List(Bind(1: Buffer,z,Choice(List())), Bind(1: set,new,Buffer,z,Application(Lambda(Constructor(set,new),Choice(List(Application(Buffer,new)))),Hole())))))))', name: '{({{0} | {(λ(set new). Buffer new) ⋅}}) ⧹ {Constructor(set,x)}}'} },{ data: { id: 'Bind(1: Buffer,z,Restrict(List(Constructor(set,x)),Bind(1: Buffer,z,Parallel(List(Bind(1: Buffer,z,Choice(List())), Bind(1: Buffer,z,Application(Lambda(Constructor(set,new),Choice(List(Application(Buffer,new)))),Bind(1: Buffer,z,Application(Bind(1: Buffer,z,set),Bind(1: Buffer,z,Number(23)))))))))))', name: '{({{0} | {(λ(set new). Buffer new) {{set} {23}}}}) ⧹ {Constructor(set,x)}}'} },{ data: { id: 'LetRec(List(Definition(Buffer,Lambda(x,Choice(List(Receive(Lambda(Constructor(set,new),Choice(List(Application(Buffer,new))))), Send(Application(get,x),Choice(List(Application(Buffer,x)))))))), Definition(z,Number(23))),Restrict(List(Constructor(set,x)),Parallel(List(Send(Application(set,z),Choice(List())), Choice(List(Application(Buffer,Number(1))))))))', name: 'letrec Buffer = (λx. (set new).(Buffer new) + get x!.(Buffer x)); z = 23 in (set z!.0 | Buffer 1) ⧹ {Constructor(set,x)}'} },{ data: { id: 'Bind(1: ,Restrict(List(Constructor(set,x)),Bind(1: Buffer,z,Parallel(List(Bind(1: Buffer,z,Choice(List())), Bind(1: x,Buffer,z,Application(Lambda(Constructor(set,new),Choice(List(Application(Buffer,new)))),Hole())))))))', name: '{({{0} | {(λ(set new). Buffer new) ⋅}}) ⧹ {Constructor(set,x)}}'} },{ data: { id: 'Bind(1: ,Restrict(List(Constructor(set,x)),Parallel(List(Send(Application(set,z),Choice(List())), Bind(1: Buffer,z,Application(Lambda(Constructor(set,new),Choice(List(Application(Buffer,new)))),Hole()))))))', name: '{(set z!.0 | {(λ(set new). Buffer new) ⋅}) ⧹ {Constructor(set,x)}}'} },{ data: { id: 'Bind(1: ,Restrict(List(Constructor(set,x)),Bind(1: Buffer,z,Parallel(List(Bind(1: Buffer,z,Choice(List())), Bind(1: x,Buffer,set,new,z,Application(Lambda(Constructor(set,new),Choice(List(Application(Buffer,new)))),Hole())))))))', name: '{({{0} | {(λ(set new). Buffer new) ⋅}}) ⧹ {Constructor(set,x)}}'} },{ data: { id: 'Bind(1: Buffer,z,Restrict(List(Constructor(set,x)),Bind(1: Buffer,z,Parallel(List(Bind(1: Buffer,z,Choice(List())), Bind(1: x,Buffer,z,Application(Lambda(Constructor(set,new),Choice(List(Application(Buffer,new)))),Bind(1: Buffer,z,Application(Bind(1: Buffer,z,set),Bind(1: Buffer,z,Number(23)))))))))))', name: '{({{0} | {(λ(set new). Buffer new) {{set} {23}}}}) ⧹ {Constructor(set,x)}}'} },{ data: { id: 'Bind(1: ,Restrict(List(Constructor(set,x)),Parallel(List(Bind(1: ,Choice(List())), Bind(1: Buffer,z,Application(Lambda(Constructor(set,new),Choice(List(Application(Buffer,new)))),Hole()))))))', name: '{({0} | {(λ(set new). Buffer new) ⋅}) ⧹ {Constructor(set,x)}}'} },{ data: { id: 'Bind(1: ,Restrict(List(Constructor(set,x)),Bind(1: Buffer,z,Parallel(List(Send(Application(set,z),Choice(List())), Bind(1: x,Buffer,z,Application(Lambda(Constructor(set,new),Choice(List(Application(Buffer,new)))),Hole())))))))', name: '{({set z!.0 | {(λ(set new). Buffer new) ⋅}}) ⧹ {Constructor(set,x)}}'} }],\n",
       "    edges: [{ data: { source: 'Bind(1: Buffer,z,Restrict(List(Constructor(set,x)),Bind(1: Buffer,z,Parallel(List(Bind(1: Buffer,z,Choice(List())), Bind(1: x,Buffer,z,Application(Lambda(Constructor(set,new),Choice(List(Application(Buffer,new)))),Bind(1: Buffer,z,Application(Bind(1: Buffer,z,set),Bind(1: Buffer,z,Number(23)))))))))))', target: 'Bind(1: ,Restrict(List(Constructor(set,x)),Bind(1: Buffer,z,Parallel(List(Bind(1: Buffer,z,Choice(List())), Bind(1: x,Buffer,set,new,z,Application(Lambda(Constructor(set,new),Choice(List(Application(Buffer,new)))),Hole())))))))', label: '(set new)'} },{ data: { source: 'Bind(1: Buffer,z,Restrict(List(Constructor(set,x)),Bind(1: Buffer,z,Parallel(List(Send(Application(set,z),Choice(List())), Bind(1: x,Buffer,z,Choice(List(Application(Buffer,x)))))))))', target: 'Bind(1: ,Restrict(List(Constructor(set,x)),Bind(1: Buffer,z,Parallel(List(Send(Application(set,z),Choice(List())), Bind(1: x,Buffer,z,Application(Lambda(Constructor(set,new),Choice(List(Application(Buffer,new)))),Hole())))))))', label: '(set new)'} },{ data: { source: 'LetRec(List(Definition(Buffer,Lambda(x,Choice(List(Receive(Lambda(Constructor(set,new),Choice(List(Application(Buffer,new))))), Send(Application(get,x),Choice(List(Application(Buffer,x)))))))), Definition(z,Number(23))),Restrict(List(Constructor(set,x)),Parallel(List(Send(Application(set,z),Choice(List())), Choice(List(Application(Buffer,Number(1))))))))', target: 'Bind(1: Buffer,z,Restrict(List(Constructor(set,x)),Bind(1: Buffer,z,Parallel(List(Bind(1: Buffer,z,Choice(List())), Bind(1: Buffer,z,Application(Lambda(Constructor(set,new),Choice(List(Application(Buffer,new)))),Bind(1: Buffer,z,Application(Bind(1: Buffer,z,set),Bind(1: Buffer,z,Number(23)))))))))))', label: 'τ'} },{ data: { source: 'Bind(1: Buffer,z,Restrict(List(Constructor(set,x)),Bind(1: Buffer,z,Parallel(List(Bind(1: Buffer,z,Choice(List())), Bind(1: Buffer,z,Application(Lambda(Constructor(set,new),Choice(List(Application(Buffer,new)))),Bind(1: Buffer,z,Application(Bind(1: Buffer,z,set),Bind(1: Buffer,z,Number(23)))))))))))', target: 'Bind(1: Buffer,z,Restrict(List(Constructor(set,x)),Bind(1: Buffer,z,Parallel(List(Bind(1: Buffer,z,Choice(List())), Bind(1: x,Buffer,z,Choice(List(Application(Buffer,x)))))))))', label: '!{{get} 23}'} },{ data: { source: 'Bind(1: Buffer,z,Restrict(List(Constructor(set,x)),Bind(1: Buffer,z,Parallel(List(Bind(1: Buffer,z,Choice(List())), Bind(1: x,Buffer,z,Choice(List(Application(Buffer,x)))))))))', target: 'Bind(1: ,Restrict(List(Constructor(set,x)),Bind(1: Buffer,z,Parallel(List(Bind(1: Buffer,z,Choice(List())), Bind(1: x,Buffer,z,Application(Lambda(Constructor(set,new),Choice(List(Application(Buffer,new)))),Hole())))))))', label: '(set new)'} },{ data: { source: 'LetRec(List(Definition(Buffer,Lambda(x,Choice(List(Receive(Lambda(Constructor(set,new),Choice(List(Application(Buffer,new))))), Send(Application(get,x),Choice(List(Application(Buffer,x)))))))), Definition(z,Number(23))),Restrict(List(Constructor(set,x)),Parallel(List(Send(Application(set,z),Choice(List())), Choice(List(Application(Buffer,Number(1))))))))', target: 'Bind(1: Buffer,z,Restrict(List(Constructor(set,x)),Bind(1: Buffer,z,Parallel(List(Send(Application(set,z),Choice(List())), Bind(1: x,Buffer,z,Choice(List(Application(Buffer,x)))))))))', label: '!{{get} 1}'} },{ data: { source: 'Bind(1: Buffer,z,Restrict(List(Constructor(set,x)),Bind(1: Buffer,z,Parallel(List(Send(Application(set,z),Choice(List())), Bind(1: x,Buffer,z,Choice(List(Application(Buffer,x)))))))))', target: 'Bind(1: Buffer,z,Restrict(List(Constructor(set,x)),Bind(1: Buffer,z,Parallel(List(Bind(1: Buffer,z,Choice(List())), Bind(1: x,Buffer,z,Application(Lambda(Constructor(set,new),Choice(List(Application(Buffer,new)))),Bind(1: Buffer,z,Application(Bind(1: Buffer,z,set),Bind(1: Buffer,z,Number(23)))))))))))', label: 'τ'} },{ data: { source: 'Bind(1: Buffer,z,Restrict(List(Constructor(set,x)),Bind(1: Buffer,z,Parallel(List(Send(Application(set,z),Choice(List())), Bind(1: x,Buffer,z,Choice(List(Application(Buffer,x)))))))))', target: 'Bind(1: Buffer,z,Restrict(List(Constructor(set,x)),Bind(1: Buffer,z,Parallel(List(Send(Application(set,z),Choice(List())), Bind(1: x,Buffer,z,Choice(List(Application(Buffer,x)))))))))', label: '!{{get} 1}'} },{ data: { source: 'LetRec(List(Definition(Buffer,Lambda(x,Choice(List(Receive(Lambda(Constructor(set,new),Choice(List(Application(Buffer,new))))), Send(Application(get,x),Choice(List(Application(Buffer,x)))))))), Definition(z,Number(23))),Restrict(List(Constructor(set,x)),Parallel(List(Send(Application(set,z),Choice(List())), Choice(List(Application(Buffer,Number(1))))))))', target: 'Bind(1: ,Restrict(List(Constructor(set,x)),Parallel(List(Send(Application(set,z),Choice(List())), Bind(1: Buffer,z,Application(Lambda(Constructor(set,new),Choice(List(Application(Buffer,new)))),Hole()))))))', label: '(set new)'} },{ data: { source: 'Bind(1: Buffer,z,Restrict(List(Constructor(set,x)),Bind(1: Buffer,z,Parallel(List(Bind(1: Buffer,z,Choice(List())), Bind(1: x,Buffer,z,Choice(List(Application(Buffer,x)))))))))', target: 'Bind(1: Buffer,z,Restrict(List(Constructor(set,x)),Bind(1: Buffer,z,Parallel(List(Bind(1: Buffer,z,Choice(List())), Bind(1: x,Buffer,z,Choice(List(Application(Buffer,x)))))))))', label: '!{{get} 23}'} },{ data: { source: 'Bind(1: ,Restrict(List(Constructor(set,x)),Parallel(List(Send(Application(set,z),Choice(List())), Bind(1: Buffer,z,Application(Lambda(Constructor(set,new),Choice(List(Application(Buffer,new)))),Hole()))))))', target: 'Bind(1: ,Restrict(List(Constructor(set,x)),Parallel(List(Bind(1: ,Choice(List())), Bind(1: Buffer,z,Application(Lambda(Constructor(set,new),Choice(List(Application(Buffer,new)))),Hole()))))))', label: '!{{set} {z}}'} },{ data: { source: 'Bind(1: Buffer,z,Restrict(List(Constructor(set,x)),Bind(1: Buffer,z,Parallel(List(Bind(1: Buffer,z,Choice(List())), Bind(1: Buffer,z,Application(Lambda(Constructor(set,new),Choice(List(Application(Buffer,new)))),Bind(1: Buffer,z,Application(Bind(1: Buffer,z,set),Bind(1: Buffer,z,Number(23)))))))))))', target: 'Bind(1: ,Restrict(List(Constructor(set,x)),Bind(1: Buffer,z,Parallel(List(Bind(1: Buffer,z,Choice(List())), Bind(1: set,new,Buffer,z,Application(Lambda(Constructor(set,new),Choice(List(Application(Buffer,new)))),Hole())))))))', label: '(set new)'} },{ data: { source: 'Bind(1: Buffer,z,Restrict(List(Constructor(set,x)),Bind(1: Buffer,z,Parallel(List(Bind(1: Buffer,z,Choice(List())), Bind(1: x,Buffer,z,Application(Lambda(Constructor(set,new),Choice(List(Application(Buffer,new)))),Bind(1: Buffer,z,Application(Bind(1: Buffer,z,set),Bind(1: Buffer,z,Number(23)))))))))))', target: 'Bind(1: Buffer,z,Restrict(List(Constructor(set,x)),Bind(1: Buffer,z,Parallel(List(Bind(1: Buffer,z,Choice(List())), Bind(1: x,Buffer,z,Choice(List(Application(Buffer,x)))))))))', label: '!{{get} 23}'} }]\n",
       "  }\n",
       "});\n",
       "</script>"
      ]
     },
     "metadata": {},
     "output_type": "display_data"
    }
   ],
   "source": [
    "\n",
    "io.equiv.panproc.ccs.Semantics(ccsProg).asTransitionSystem()"
   ]
  }
 ],
 "metadata": {
  "kernelspec": {
   "display_name": "Scala",
   "language": "scala",
   "name": "scala"
  },
  "language_info": {
   "codemirror_mode": "text/x-scala",
   "file_extension": ".sc",
   "mimetype": "text/x-scala",
   "name": "scala",
   "nbconvert_exporter": "script",
   "version": "2.13.12"
  },
  "orig_nbformat": 4
 },
 "nbformat": 4,
 "nbformat_minor": 2
}
