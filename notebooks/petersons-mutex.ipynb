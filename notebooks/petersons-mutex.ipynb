{
 "cells": [
  {
   "cell_type": "code",
   "execution_count": 1,
   "metadata": {},
   "outputs": [
    {
     "data": {
      "text/plain": [
       "\u001b[32mimport \u001b[39m\u001b[36m$cp.$          \n",
       "\u001b[39m"
      ]
     },
     "execution_count": 1,
     "metadata": {},
     "output_type": "execute_result"
    }
   ],
   "source": [
    "import $cp.lib.panproc"
   ]
  },
  {
   "cell_type": "code",
   "execution_count": 2,
   "metadata": {},
   "outputs": [
    {
     "data": {
      "text/plain": [
       "letrec Buffer = (λx. val.(Buffer x)) in Buffer 1"
      ]
     },
     "metadata": {},
     "output_type": "display_data"
    },
    {
     "data": {
      "text/plain": [
       "\u001b[32mimport \u001b[39m\u001b[36mio.equiv.panproc.lambda.Syntax.Notation._\n",
       "\u001b[39m\n",
       "\u001b[32mimport \u001b[39m\u001b[36mio.equiv.panproc.ccs.Syntax.{ NullProcess, RecProc }\n",
       "\n",
       "\u001b[39m"
      ]
     },
     "execution_count": 2,
     "metadata": {},
     "output_type": "execute_result"
    }
   ],
   "source": [
    "import io.equiv.panproc.lambda.Syntax.Notation._\n",
    "import io.equiv.panproc.ccs.Syntax.{ NullProcess, RecProc }\n",
    "\n",
    "io.equiv.panproc.lambda.LatexPrint.setup()\n",
    "io.equiv.panproc.ts.CytoscapePrint.setup()\n",
    "\n",
    "val ccsProg = let.rec(\n",
    "  Buffer = λ(\"x\")(\"val!\" *: RecProc(\"Buffer\", atom(\"x\"))),\n",
    "  (atom(\"Buffer\")(num(1)))\n",
    ")\n"
   ]
  },
  {
   "cell_type": "code",
   "execution_count": 3,
   "metadata": {},
   "outputs": [
    {
     "data": {
      "text/html": [
       "<div id=\"cy\" style=\"width: 100%; height: 250px;\"></div>\n",
       "\n",
       "<script type=\"module\">\n",
       "import cytoscape from \"../node_modules/cytoscape/dist/cytoscape.esm.min.js\";\n",
       "\n",
       "var cy = cytoscape({\n",
       "  container: document.getElementById('cy'),\n",
       "\n",
       "  layout: {\n",
       "    name: 'cose',\n",
       "    padding: 10\n",
       "  },\n",
       "\n",
       "  style: cytoscape.stylesheet()\n",
       "    .selector('node')\n",
       "      .style({\n",
       "        'content': 'data(name)',\n",
       "        'text-valign': 'center'\n",
       "      })\n",
       "    .selector(':selected')\n",
       "      .style({\n",
       "        'border-width': 3,\n",
       "        'border-color': '#333'\n",
       "      })\n",
       "    .selector('edge')\n",
       "      .style({\n",
       "        'opacity': 0.666,\n",
       "        'curve-style': 'bezier',\n",
       "        'target-arrow-shape': 'triangle',\n",
       "        'label': 'data(label)'\n",
       "      }),\n",
       "\n",
       "  elements: {\n",
       "    nodes: [{ data: { id: 'LetRec(List(Definition(Buffer,Lambda(x,Prefix(val!⟨⟩,Choice(List(Application(Variable(Buffer),Variable(x)))))))),Application(Bind(e,Lambda(x,Prefix(val!⟨⟩,Choice(List(Application(Variable(Buffer),Variable(x))))))),Number(1)))', name: 'letrec Buffer = (λx. val.(Buffer x)) in {(λx. val.(Buffer x))} 1'} },{ data: { id: 'LetRec(List(Definition(Buffer,Lambda(x,Prefix(val!⟨⟩,Choice(List(Application(Variable(Buffer),Variable(x)))))))),Application(Variable(Buffer),Number(1)))', name: 'letrec Buffer = (λx. val.(Buffer x)) in Buffer 1'} },{ data: { id: 'LetRec(List(Definition(Buffer,Lambda(x,Prefix(val!⟨⟩,Choice(List(Application(Variable(Buffer),Variable(x)))))))),Bind(e,Prefix(val!⟨⟩,Choice(List(Application(Variable(Buffer),Variable(x)))))))', name: 'letrec Buffer = (λx. val.(Buffer x)) in {val.(Buffer x)}'} }],\n",
       "    edges: [{ data: { source: 'LetRec(List(Definition(Buffer,Lambda(x,Prefix(val!⟨⟩,Choice(List(Application(Variable(Buffer),Variable(x)))))))),Application(Bind(e,Lambda(x,Prefix(val!⟨⟩,Choice(List(Application(Variable(Buffer),Variable(x))))))),Number(1)))', target: 'LetRec(List(Definition(Buffer,Lambda(x,Prefix(val!⟨⟩,Choice(List(Application(Variable(Buffer),Variable(x)))))))),Bind(e,Prefix(val!⟨⟩,Choice(List(Application(Variable(Buffer),Variable(x)))))))', label: 'τ'} },{ data: { source: 'LetRec(List(Definition(Buffer,Lambda(x,Prefix(val!⟨⟩,Choice(List(Application(Variable(Buffer),Variable(x)))))))),Application(Variable(Buffer),Number(1)))', target: 'LetRec(List(Definition(Buffer,Lambda(x,Prefix(val!⟨⟩,Choice(List(Application(Variable(Buffer),Variable(x)))))))),Application(Bind(e,Lambda(x,Prefix(val!⟨⟩,Choice(List(Application(Variable(Buffer),Variable(x))))))),Number(1)))', label: 'τ'} }]\n",
       "  }\n",
       "});\n",
       "</script>"
      ]
     },
     "metadata": {},
     "output_type": "display_data"
    }
   ],
   "source": [
    "io.equiv.panproc.lambda.CallByValueSemantics(ccsProg).asTransitionSystem()"
   ]
  },
  {
   "cell_type": "code",
   "execution_count": 4,
   "metadata": {},
   "outputs": [
    {
     "data": {
      "text/plain": [
       "\u001b[36mres3\u001b[39m: \u001b[32mString\u001b[39m = \u001b[32m\"TransitionSystem({},Map())\"\u001b[39m"
      ]
     },
     "execution_count": 4,
     "metadata": {},
     "output_type": "execute_result"
    }
   ],
   "source": [
    "\n",
    "io.equiv.panproc.ccs.Semantics(ccsProg).asTransitionSystem().toString()\n",
    "//"
   ]
  }
 ],
 "metadata": {
  "kernelspec": {
   "display_name": "Scala 3.1.3",
   "language": "scala",
   "name": "scala_3_1_3"
  },
  "language_info": {
   "codemirror_mode": "text/x-scala",
   "file_extension": ".sc",
   "mimetype": "text/x-scala",
   "name": "scala",
   "nbconvert_exporter": "script",
   "version": "2.13.8"
  },
  "orig_nbformat": 4
 },
 "nbformat": 4,
 "nbformat_minor": 2
}
