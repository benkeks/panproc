{
 "cells": [
  {
   "cell_type": "code",
   "execution_count": 1,
   "metadata": {},
   "outputs": [
    {
     "data": {
      "text/plain": [
       "\u001b[32mimport \u001b[39m\u001b[36m$cp.$          \n",
       "\u001b[39m"
      ]
     },
     "execution_count": 1,
     "metadata": {},
     "output_type": "execute_result"
    }
   ],
   "source": [
    "import $cp.lib.panproc"
   ]
  },
  {
   "cell_type": "code",
   "execution_count": 2,
   "metadata": {},
   "outputs": [
    {
     "data": {
      "text/plain": [
       "letrec a = (λx. b x); b = (λx. x) in a a"
      ]
     },
     "metadata": {},
     "output_type": "display_data"
    },
    {
     "data": {
      "text/plain": [
       "letrec myObject = Cons 1 2; myProjection = (λ((Cons x) y). y) in myProjection myObject"
      ]
     },
     "metadata": {},
     "output_type": "display_data"
    },
    {
     "data": {
      "text/plain": [
       "\u001b[32mimport \u001b[39m\u001b[36mio.equiv.panproc.lambda.Syntax.Notation.{*, given}\n",
       "\n",
       "\u001b[39m"
      ]
     },
     "execution_count": 2,
     "metadata": {},
     "output_type": "execute_result"
    }
   ],
   "source": [
    "import io.equiv.panproc.lambda.Syntax.Notation.{*, given}\n",
    "\n",
    "io.equiv.panproc.lambda.LatexPrint.setup()\n",
    "\n",
    "val lambdaProg = let.rec(\n",
    "    a = λ(\"x\")(\"b\"(\"x\")),\n",
    "    b = λ(\"x\")(\"x\"),\n",
    "    \"a\"(\"a\")\n",
    ")\n",
    "\n",
    "val constructorTest = let.rec(\n",
    "    myObject = \"Cons\"(1)(2),\n",
    "    myProjection = λ(\"Cons\"(\"x\")(\"y\"))(\"y\"),\n",
    "    \"myProjection\"(\"myObject\")\n",
    ")\n"
   ]
  },
  {
   "cell_type": "code",
   "execution_count": 3,
   "metadata": {},
   "outputs": [
    {
     "data": {
      "text/html": [
       "<div id=\"cy\" style=\"width: 100%; height: 250px;\"></div>\n",
       "\n",
       "<script type=\"module\">\n",
       "import cytoscape from \"../node_modules/cytoscape/dist/cytoscape.esm.min.js\";\n",
       "\n",
       "var cy = cytoscape({\n",
       "  container: document.getElementById('cy'),\n",
       "\n",
       "  layout: {\n",
       "    name: 'cose',\n",
       "    padding: 10\n",
       "  },\n",
       "\n",
       "  style: cytoscape.stylesheet()\n",
       "    .selector('node')\n",
       "      .style({\n",
       "        'content': 'data(name)',\n",
       "        'text-valign': 'center'\n",
       "      })\n",
       "    .selector(':selected')\n",
       "      .style({\n",
       "        'border-width': 3,\n",
       "        'border-color': '#333'\n",
       "      })\n",
       "    .selector('edge')\n",
       "      .style({\n",
       "        'opacity': 0.666,\n",
       "        'curve-style': 'bezier',\n",
       "        'target-arrow-shape': 'triangle',\n",
       "        'label': 'data(label)'\n",
       "      }),\n",
       "\n",
       "  elements: {\n",
       "    nodes: [{ data: { id: 'LetRec(List(Definition(myObject,Application(Application(Cons,Number(1)),Number(2))), Definition(myProjection,Lambda(Constructor(Constructor(Cons,x),y),y))),Application(myProjection,myObject))', name: 'letrec myObject = Cons 1 2; myProjection = (λ((Cons x) y). y) in myProjection myObject'} },{ data: { id: 'Number(2)', name: '2'} }],\n",
       "    edges: [{ data: { source: 'LetRec(List(Definition(myObject,Application(Application(Cons,Number(1)),Number(2))), Definition(myProjection,Lambda(Constructor(Constructor(Cons,x),y),y))),Application(myProjection,myObject))', target: 'Number(2)', label: '*'} },{ data: { source: 'Number(2)', target: 'Number(2)', label: '*'} }]\n",
       "  }\n",
       "});\n",
       "</script>"
      ]
     },
     "metadata": {},
     "output_type": "display_data"
    },
    {
     "data": {
      "text/plain": [
       "\u001b[36msemantics\u001b[39m: \u001b[32mCallByValueBigStepSemantics\u001b[39m = io.equiv.panproc.lambda.CallByValueBigStepSemantics@3f2df231"
      ]
     },
     "execution_count": 3,
     "metadata": {},
     "output_type": "execute_result"
    }
   ],
   "source": [
    "io.equiv.panproc.ts.CytoscapePrint.setup()\n",
    "\n",
    "val semantics = io.equiv.panproc.lambda.CallByValueBigStepSemantics(constructorTest)\n",
    "\n",
    "semantics.asTransitionSystem()\n"
   ]
  }
 ],
 "metadata": {
  "kernelspec": {
   "display_name": "Scala",
   "language": "scala",
   "name": "scala"
  },
  "language_info": {
   "codemirror_mode": "text/x-scala",
   "file_extension": ".sc",
   "mimetype": "text/x-scala",
   "name": "scala",
   "nbconvert_exporter": "script",
   "version": "2.13.10"
  },
  "orig_nbformat": 4
 },
 "nbformat": 4,
 "nbformat_minor": 2
}
